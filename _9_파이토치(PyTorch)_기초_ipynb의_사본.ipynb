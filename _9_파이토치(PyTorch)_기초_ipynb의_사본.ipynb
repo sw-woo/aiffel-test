{
  "nbformat": 4,
  "nbformat_minor": 0,
  "metadata": {
    "colab": {
      "name": "_9 파이토치(PyTorch) 기초.ipynb의 사본",
      "provenance": [],
      "collapsed_sections": [],
      "include_colab_link": true
    },
    "kernelspec": {
      "name": "python3",
      "display_name": "Python 3"
    },
    "accelerator": "GPU"
  },
  "cells": [
    {
      "cell_type": "markdown",
      "metadata": {
        "id": "view-in-github",
        "colab_type": "text"
      },
      "source": [
        "<a href=\"https://colab.research.google.com/github/sw-woo/aiffel-test/blob/master/_9_%ED%8C%8C%EC%9D%B4%ED%86%A0%EC%B9%98(PyTorch)_%EA%B8%B0%EC%B4%88_ipynb%EC%9D%98_%EC%82%AC%EB%B3%B8.ipynb\" target=\"_parent\"><img src=\"https://colab.research.google.com/assets/colab-badge.svg\" alt=\"Open In Colab\"/></a>"
      ]
    },
    {
      "cell_type": "markdown",
      "metadata": {
        "id": "f9Xx-jP92OgP"
      },
      "source": [
        "# 파이토치(PyTorch)\n",
        "\n",
        "<img src=\"https://img1.daumcdn.net/thumb/R800x0/?scode=mtistory2&fname=https%3A%2F%2Fblog.kakaocdn.net%2Fdn%2FbuUgoV%2FbtqwWZvcHHX%2Fd6XzIFBEfiuFb0UvyV4A50%2Fimg.jpg\" width=\"300\">\n",
        "\n",
        "- 코드 출처: https://pytorch.org/tutorials/"
      ]
    },
    {
      "cell_type": "markdown",
      "metadata": {
        "id": "3cxreguz2sL0"
      },
      "source": [
        "## 파이토치의 구성요소\n",
        "\n",
        "- `torch`: 텐서를 생성하는 라이브러리\n",
        "\n",
        "- `torch.autograd`: 자동미분 기능을 제공하는 라이브러리\n",
        "\n",
        "- `torch.nn`: 신경망을 생성하는 라이브러리\n",
        "\n",
        "- `torch.multiprocessing`: 병럴처리 기능을 제공하는 라이브러리\n",
        "\n",
        "- `torch.utils`: 데이터 조작 등 유틸리티 기능 제공\n",
        "\n",
        "- `torch.legacy`(./nn/.optim): Torch로부터 포팅해온 코드\n",
        "\n",
        "- `torch.onnx`: ONNX(Open Neural Network Exchange)\n",
        "\n",
        "  - 서로 다른 프레임워크 간의 모델을 공유할 때 사용"
      ]
    },
    {
      "cell_type": "markdown",
      "metadata": {
        "id": "gb5O_aSvtHvb"
      },
      "source": [
        "## 텐서(Tensors)\n",
        "- 넘파이(NumPy)의 ndarray와 유사\n",
        "\n",
        "- GPU를 사용한 연산 가속도 가능"
      ]
    },
    {
      "cell_type": "code",
      "metadata": {
        "id": "CmKIvnx0s8G6"
      },
      "source": [
        "import torch"
      ],
      "execution_count": null,
      "outputs": []
    },
    {
      "cell_type": "code",
      "metadata": {
        "id": "49IHV-qJE5FI",
        "colab": {
          "base_uri": "https://localhost:8080/",
          "height": 35
        },
        "outputId": "d4bd7bbe-559f-4c5a-cfc8-e4207be58a5e"
      },
      "source": [
        "torch.__version__"
      ],
      "execution_count": null,
      "outputs": [
        {
          "output_type": "execute_result",
          "data": {
            "application/vnd.google.colaboratory.intrinsic+json": {
              "type": "string"
            },
            "text/plain": [
              "'1.10.0+cu111'"
            ]
          },
          "metadata": {},
          "execution_count": 147
        }
      ]
    },
    {
      "cell_type": "markdown",
      "metadata": {
        "id": "isUHVy-gtZeT"
      },
      "source": [
        "### 초기화 되지 않은 행렬 "
      ]
    },
    {
      "cell_type": "code",
      "metadata": {
        "id": "3PqY3cZatU0D",
        "colab": {
          "base_uri": "https://localhost:8080/"
        },
        "outputId": "f46d24c5-455a-415d-d4e4-c3d0d2e7d2fc"
      },
      "source": [
        "#4x2에 텐서가 만들어 지고 초기화가 안되어서 random 값이 들어가있다.\n",
        "x = torch.empty(4,2)\n",
        "print(x)"
      ],
      "execution_count": null,
      "outputs": [
        {
          "output_type": "stream",
          "name": "stdout",
          "text": [
            "tensor([[2.8512e-19, 3.0827e-41],\n",
            "        [2.3535e-23, 3.0827e-41],\n",
            "        [3.3631e-44, 0.0000e+00],\n",
            "        [       nan,        nan]])\n"
          ]
        }
      ]
    },
    {
      "cell_type": "markdown",
      "metadata": {
        "id": "zPCIJ2pNteZv"
      },
      "source": [
        "### 무작위로 초기화된 행렬"
      ]
    },
    {
      "cell_type": "code",
      "metadata": {
        "id": "h6oPj2Q9tdYx",
        "colab": {
          "base_uri": "https://localhost:8080/"
        },
        "outputId": "eeeeca6b-7b0a-4a2d-b8cd-ffc179d17862"
      },
      "source": [
        "x = torch.rand(4,2)\n",
        "print(x)"
      ],
      "execution_count": null,
      "outputs": [
        {
          "output_type": "stream",
          "name": "stdout",
          "text": [
            "tensor([[0.9374, 0.2879],\n",
            "        [0.8397, 0.5765],\n",
            "        [0.6707, 0.6958],\n",
            "        [0.3577, 0.4039]])\n"
          ]
        }
      ]
    },
    {
      "cell_type": "markdown",
      "metadata": {
        "id": "A5aHphIHtiJk"
      },
      "source": [
        "### dtype이 long, 0으로 채워진 텐서"
      ]
    },
    {
      "cell_type": "code",
      "metadata": {
        "id": "4zykN8aMthXk",
        "colab": {
          "base_uri": "https://localhost:8080/"
        },
        "outputId": "c4bf316d-ce42-4d01-dc94-d15f2b45d3ee"
      },
      "source": [
        "x = torch.zeros(4,2, dtype=torch.long)\n",
        "print(x)"
      ],
      "execution_count": null,
      "outputs": [
        {
          "output_type": "stream",
          "name": "stdout",
          "text": [
            "tensor([[0, 0],\n",
            "        [0, 0],\n",
            "        [0, 0],\n",
            "        [0, 0]])\n"
          ]
        }
      ]
    },
    {
      "cell_type": "code",
      "metadata": {
        "id": "W4VL8C_ctu8b",
        "colab": {
          "base_uri": "https://localhost:8080/"
        },
        "outputId": "3a5af3e4-123f-4a59-ef83-3e22ef02deb2"
      },
      "source": [
        "x = torch.tensor([3,2.3])\n",
        "print(x)"
      ],
      "execution_count": null,
      "outputs": [
        {
          "output_type": "stream",
          "name": "stdout",
          "text": [
            "tensor([3.0000, 2.3000])\n"
          ]
        }
      ]
    },
    {
      "cell_type": "code",
      "metadata": {
        "id": "4RmVBVtIt46M",
        "colab": {
          "base_uri": "https://localhost:8080/"
        },
        "outputId": "aa06edbe-e908-46de-b869-825739db02d3"
      },
      "source": [
        "x = x.new_ones(2, 4, dtype=torch.double)\n",
        "print(x)"
      ],
      "execution_count": null,
      "outputs": [
        {
          "output_type": "stream",
          "name": "stdout",
          "text": [
            "tensor([[1., 1., 1., 1.],\n",
            "        [1., 1., 1., 1.]], dtype=torch.float64)\n"
          ]
        }
      ]
    },
    {
      "cell_type": "code",
      "metadata": {
        "id": "xxskTUfGuPUe",
        "colab": {
          "base_uri": "https://localhost:8080/"
        },
        "outputId": "2d5dbb87-c7ee-4d7c-e528-58237cad8615"
      },
      "source": [
        "x = torch.randn_like(x, dtype=torch.float32)\n",
        "print(x)"
      ],
      "execution_count": null,
      "outputs": [
        {
          "output_type": "stream",
          "name": "stdout",
          "text": [
            "tensor([[ 2.3523, -0.4041, -1.1266, -0.0026],\n",
            "        [ 0.5707, -0.8808, -0.5384, -1.9825]])\n"
          ]
        }
      ]
    },
    {
      "cell_type": "markdown",
      "metadata": {
        "id": "7j5sGxGvucpH"
      },
      "source": [
        "### 텐서의 크기"
      ]
    },
    {
      "cell_type": "code",
      "metadata": {
        "id": "yy-JbqKEuYIR",
        "colab": {
          "base_uri": "https://localhost:8080/"
        },
        "outputId": "6eb25139-68f8-4980-b108-31a1d1bc26d8"
      },
      "source": [
        "print(x.size())"
      ],
      "execution_count": null,
      "outputs": [
        {
          "output_type": "stream",
          "name": "stdout",
          "text": [
            "torch.Size([2, 4])\n"
          ]
        }
      ]
    },
    {
      "cell_type": "code",
      "source": [
        ""
      ],
      "metadata": {
        "id": "RZ0FOD4GsnTh"
      },
      "execution_count": null,
      "outputs": []
    },
    {
      "cell_type": "markdown",
      "metadata": {
        "id": "ehOg0eDwufru"
      },
      "source": [
        "## 텐서의 연산(operations)"
      ]
    },
    {
      "cell_type": "markdown",
      "metadata": {
        "id": "j8Doc_37uh3G"
      },
      "source": [
        "### 덧셈 1"
      ]
    },
    {
      "cell_type": "code",
      "metadata": {
        "id": "Rw4JCYkYuef9",
        "colab": {
          "base_uri": "https://localhost:8080/"
        },
        "outputId": "344eed62-a43b-4819-b403-89f7064dde02"
      },
      "source": [
        "print(x)"
      ],
      "execution_count": null,
      "outputs": [
        {
          "output_type": "stream",
          "name": "stdout",
          "text": [
            "tensor([[ 2.3523, -0.4041, -1.1266, -0.0026],\n",
            "        [ 0.5707, -0.8808, -0.5384, -1.9825]])\n"
          ]
        }
      ]
    },
    {
      "cell_type": "code",
      "metadata": {
        "id": "Wa44ur1Nuj5U",
        "colab": {
          "base_uri": "https://localhost:8080/"
        },
        "outputId": "42d7891b-dfa8-48d1-b1e6-b9e86825aa8c"
      },
      "source": [
        "y = torch.rand(2,4)\n",
        "print(y)\n",
        "print(x+y)"
      ],
      "execution_count": null,
      "outputs": [
        {
          "output_type": "stream",
          "name": "stdout",
          "text": [
            "tensor([[0.3475, 0.7777, 0.5926, 0.5245],\n",
            "        [0.6353, 0.3010, 0.5044, 0.2081]])\n",
            "tensor([[ 2.6998,  0.3736, -0.5339,  0.5219],\n",
            "        [ 1.2060, -0.5798, -0.0340, -1.7744]])\n"
          ]
        }
      ]
    },
    {
      "cell_type": "markdown",
      "metadata": {
        "id": "E5gcOo-Ouo9B"
      },
      "source": [
        "### 덧셈2"
      ]
    },
    {
      "cell_type": "code",
      "metadata": {
        "id": "Qx-NzJhhumZx",
        "colab": {
          "base_uri": "https://localhost:8080/"
        },
        "outputId": "1e00b647-f4b7-4d4d-a314-efaf59f3ac74"
      },
      "source": [
        "print(torch.add(x,y))"
      ],
      "execution_count": null,
      "outputs": [
        {
          "output_type": "stream",
          "name": "stdout",
          "text": [
            "tensor([[ 2.6998,  0.3736, -0.5339,  0.5219],\n",
            "        [ 1.2060, -0.5798, -0.0340, -1.7744]])\n"
          ]
        }
      ]
    },
    {
      "cell_type": "markdown",
      "metadata": {
        "id": "RlvrQhLuuuIr"
      },
      "source": [
        "### 덧셈3\n",
        "- 결과 텐서를 인자로 제공"
      ]
    },
    {
      "cell_type": "code",
      "metadata": {
        "id": "lUsLAOTcur1-",
        "colab": {
          "base_uri": "https://localhost:8080/"
        },
        "outputId": "d2060c11-7b4a-4b14-9cf3-592b3a7f47f7"
      },
      "source": [
        "result = torch.empty(2,4)\n",
        "torch.add(x,y, out=result)\n",
        "print(result)"
      ],
      "execution_count": null,
      "outputs": [
        {
          "output_type": "stream",
          "name": "stdout",
          "text": [
            "tensor([[ 2.6998,  0.3736, -0.5339,  0.5219],\n",
            "        [ 1.2060, -0.5798, -0.0340, -1.7744]])\n"
          ]
        }
      ]
    },
    {
      "cell_type": "markdown",
      "metadata": {
        "id": "V6BdyZFSu2Ei"
      },
      "source": [
        "### 덧셈4\n",
        "- `in-place` 방식\n",
        "\n",
        "- (참고) in-place 방식\n",
        "  - in-place방식으로 텐서의 값을 변경하는 연산 뒤에는 _''가 붙음\n",
        "  - `x.copy_(y), x.t_()`"
      ]
    },
    {
      "cell_type": "code",
      "metadata": {
        "id": "lu8rR4WVu0wQ",
        "colab": {
          "base_uri": "https://localhost:8080/"
        },
        "outputId": "3664713d-70fa-45bb-c846-35ec2a7edb5d"
      },
      "source": [
        "print(x)\n",
        "print(y)\n",
        "y.add_(x)# y +=x\n",
        "print(y)"
      ],
      "execution_count": null,
      "outputs": [
        {
          "output_type": "stream",
          "name": "stdout",
          "text": [
            "tensor([[ 2.3523, -0.4041, -1.1266, -0.0026],\n",
            "        [ 0.5707, -0.8808, -0.5384, -1.9825]])\n",
            "tensor([[0.3475, 0.7777, 0.5926, 0.5245],\n",
            "        [0.6353, 0.3010, 0.5044, 0.2081]])\n",
            "tensor([[ 2.6998,  0.3736, -0.5339,  0.5219],\n",
            "        [ 1.2060, -0.5798, -0.0340, -1.7744]])\n"
          ]
        }
      ]
    },
    {
      "cell_type": "markdown",
      "metadata": {
        "id": "Uo8nsrGjOw6W"
      },
      "source": [
        "### 그 외의 연산\n",
        "- `torch.sub` : 뺄셈\n",
        "\n",
        "- `torch.mul` : 곱셉\n",
        "\n",
        "- `torch.div` : 나눗셈\n",
        "\n",
        "- `torch.mm` : 내적(dot product)"
      ]
    },
    {
      "cell_type": "code",
      "metadata": {
        "id": "S51kxzPTO1ER",
        "colab": {
          "base_uri": "https://localhost:8080/"
        },
        "outputId": "abd79a67-f2e6-4dc7-f072-179fdfa22c16"
      },
      "source": [
        "x = torch.Tensor([[1,3],\n",
        "                 [5,4]])\n",
        "\n",
        "y = torch.Tensor([[2,4],\n",
        "                  [6,8]])\n",
        "\n",
        "print(x - y)\n",
        "print(torch.sub(x,y))\n",
        "print(x.sub(y))"
      ],
      "execution_count": null,
      "outputs": [
        {
          "output_type": "stream",
          "name": "stdout",
          "text": [
            "tensor([[-1., -1.],\n",
            "        [-1., -4.]])\n",
            "tensor([[-1., -1.],\n",
            "        [-1., -4.]])\n",
            "tensor([[-1., -1.],\n",
            "        [-1., -4.]])\n"
          ]
        }
      ]
    },
    {
      "cell_type": "code",
      "metadata": {
        "id": "ou0dY8mkPR24",
        "colab": {
          "base_uri": "https://localhost:8080/"
        },
        "outputId": "4ffd6ce6-8112-43f5-b67e-47da0f7e4a81"
      },
      "source": [
        "print(x * y)\n",
        "print(torch.mul(x,y))\n",
        "print(x.mul(y))"
      ],
      "execution_count": null,
      "outputs": [
        {
          "output_type": "stream",
          "name": "stdout",
          "text": [
            "tensor([[ 2., 12.],\n",
            "        [30., 32.]])\n",
            "tensor([[ 2., 12.],\n",
            "        [30., 32.]])\n",
            "tensor([[ 2., 12.],\n",
            "        [30., 32.]])\n"
          ]
        }
      ]
    },
    {
      "cell_type": "code",
      "metadata": {
        "id": "6RlZZBp3PbE4",
        "colab": {
          "base_uri": "https://localhost:8080/"
        },
        "outputId": "f6a185ea-963d-4c65-aac6-57af5775e5fb"
      },
      "source": [
        "print(x / y)\n",
        "print(torch.div(x,y))\n",
        "print(x.div(y))"
      ],
      "execution_count": null,
      "outputs": [
        {
          "output_type": "stream",
          "name": "stdout",
          "text": [
            "tensor([[0.5000, 0.7500],\n",
            "        [0.8333, 0.5000]])\n",
            "tensor([[0.5000, 0.7500],\n",
            "        [0.8333, 0.5000]])\n",
            "tensor([[0.5000, 0.7500],\n",
            "        [0.8333, 0.5000]])\n"
          ]
        }
      ]
    },
    {
      "cell_type": "code",
      "metadata": {
        "id": "7MR-ofE5P7VC",
        "colab": {
          "base_uri": "https://localhost:8080/"
        },
        "outputId": "6f220cb3-a0da-4e97-c83a-2c74e59a31fb"
      },
      "source": [
        "# 내적(dot product) 행렬 곱 연산\n",
        "x = torch.Tensor([[1,3],\n",
        "                 [5,4]])\n",
        "\n",
        "y = torch.Tensor([[2,4],\n",
        "                  [6,8]])\n",
        "\n",
        "print(torch.mm(x,y))"
      ],
      "execution_count": null,
      "outputs": [
        {
          "output_type": "stream",
          "name": "stdout",
          "text": [
            "tensor([[20., 28.],\n",
            "        [34., 52.]])\n"
          ]
        }
      ]
    },
    {
      "cell_type": "markdown",
      "metadata": {
        "id": "8URGwHE_NjDi"
      },
      "source": [
        "## 텐서의 조작(manipulations)"
      ]
    },
    {
      "cell_type": "markdown",
      "metadata": {
        "id": "uCsdZIPTvG53"
      },
      "source": [
        "### 인덱싱\n",
        "- 넘파이처럼 인덱싱 사용가능"
      ]
    },
    {
      "cell_type": "code",
      "source": [
        "print(x)"
      ],
      "metadata": {
        "id": "IUQASXkAv2ci",
        "outputId": "a5a86bc0-24ab-4841-87b2-6cfdd0e15aaf",
        "colab": {
          "base_uri": "https://localhost:8080/"
        }
      },
      "execution_count": null,
      "outputs": [
        {
          "output_type": "stream",
          "name": "stdout",
          "text": [
            "tensor([[1., 3.],\n",
            "        [5., 4.]])\n"
          ]
        }
      ]
    },
    {
      "cell_type": "code",
      "metadata": {
        "id": "jF2DE8kzvOs3",
        "colab": {
          "base_uri": "https://localhost:8080/"
        },
        "outputId": "63208c87-1628-4587-ff1e-db8a7a62485e"
      },
      "source": [
        "print(x[:,1])"
      ],
      "execution_count": null,
      "outputs": [
        {
          "output_type": "stream",
          "name": "stdout",
          "text": [
            "tensor([3., 4.])\n"
          ]
        }
      ]
    },
    {
      "cell_type": "markdown",
      "metadata": {
        "id": "jEscXddKvQ5l"
      },
      "source": [
        "### view\n",
        "- 텐서의 크기(size)나 모양(shape)을 변경"
      ]
    },
    {
      "cell_type": "code",
      "metadata": {
        "id": "xwhWeqhLvKKj",
        "colab": {
          "base_uri": "https://localhost:8080/"
        },
        "outputId": "95e3a485-e84d-4ccf-8b23-a8dfe605a24f"
      },
      "source": [
        "x = torch.randn(4,5)\n",
        "y = x.view(20)\n",
        "z = x.view(5,-1)\n",
        "\n",
        "print(x)\n",
        "print(y)\n",
        "print(z)"
      ],
      "execution_count": null,
      "outputs": [
        {
          "output_type": "stream",
          "name": "stdout",
          "text": [
            "tensor([[ 0.4614,  0.5217, -0.0140,  0.1296, -0.2356],\n",
            "        [-0.0097, -0.8066,  2.1219, -0.4460, -0.1925],\n",
            "        [-0.2400,  0.8545,  0.7160,  0.0228,  0.6950],\n",
            "        [-1.1819,  1.8190,  1.1259, -1.0540, -1.0356]])\n",
            "tensor([ 0.4614,  0.5217, -0.0140,  0.1296, -0.2356, -0.0097, -0.8066,  2.1219,\n",
            "        -0.4460, -0.1925, -0.2400,  0.8545,  0.7160,  0.0228,  0.6950, -1.1819,\n",
            "         1.8190,  1.1259, -1.0540, -1.0356])\n",
            "tensor([[ 0.4614,  0.5217, -0.0140,  0.1296],\n",
            "        [-0.2356, -0.0097, -0.8066,  2.1219],\n",
            "        [-0.4460, -0.1925, -0.2400,  0.8545],\n",
            "        [ 0.7160,  0.0228,  0.6950, -1.1819],\n",
            "        [ 1.8190,  1.1259, -1.0540, -1.0356]])\n"
          ]
        }
      ]
    },
    {
      "cell_type": "markdown",
      "metadata": {
        "id": "iBY_wuIRvf5j"
      },
      "source": [
        "### item\n",
        "- 텐서에 값이 단 하나라도 존재하면 숫자값을 얻을 수 있음\n"
      ]
    },
    {
      "cell_type": "code",
      "metadata": {
        "id": "E0W24QqpvcmV",
        "colab": {
          "base_uri": "https://localhost:8080/"
        },
        "outputId": "51d0d8e1-3566-458e-b25d-2de948fe9f4f"
      },
      "source": [
        "x = torch.randn(1)\n",
        "print(x)\n",
        "print(x.item())\n",
        "print(x.dtype)"
      ],
      "execution_count": null,
      "outputs": [
        {
          "output_type": "stream",
          "name": "stdout",
          "text": [
            "tensor([0.1726])\n",
            "0.17260661721229553\n",
            "torch.float32\n"
          ]
        }
      ]
    },
    {
      "cell_type": "markdown",
      "metadata": {
        "id": "V1sCUVwC3Nua"
      },
      "source": [
        "- 스칼라값 하나만 존재해야함 아니면 에러 발생"
      ]
    },
    {
      "cell_type": "code",
      "metadata": {
        "id": "jl4_FAgd3Lt9",
        "colab": {
          "base_uri": "https://localhost:8080/"
        },
        "outputId": "961e688a-ec29-4e41-f66a-3ba49a979fe4"
      },
      "source": [
        "x = torch.randn(1)\n",
        "print(x)\n",
        "print(x.item())\n",
        "print(x.dtype)"
      ],
      "execution_count": null,
      "outputs": [
        {
          "output_type": "stream",
          "name": "stdout",
          "text": [
            "tensor([2.8440])\n",
            "2.844014883041382\n",
            "torch.float32\n"
          ]
        }
      ]
    },
    {
      "cell_type": "markdown",
      "metadata": {
        "id": "uThndsy5M6wM"
      },
      "source": [
        "### squeeze \n",
        "- 차원을 축소(제거)"
      ]
    },
    {
      "cell_type": "code",
      "metadata": {
        "id": "OF3rOavnRxgM",
        "colab": {
          "base_uri": "https://localhost:8080/"
        },
        "outputId": "9aeed8d7-0c00-4b4e-cc46-b775f4cea7e5"
      },
      "source": [
        "tensor = torch.rand(1,3,3)\n",
        "print(tensor)\n",
        "print(tensor.shape)"
      ],
      "execution_count": null,
      "outputs": [
        {
          "output_type": "stream",
          "name": "stdout",
          "text": [
            "tensor([[[0.8383, 0.9278, 0.5946],\n",
            "         [0.4247, 0.2110, 0.2066],\n",
            "         [0.6869, 0.3542, 0.7022]]])\n",
            "torch.Size([1, 3, 3])\n"
          ]
        }
      ]
    },
    {
      "cell_type": "code",
      "metadata": {
        "id": "Y2jq0jHJR5Jw",
        "colab": {
          "base_uri": "https://localhost:8080/"
        },
        "outputId": "f76685ba-c55a-4850-edc8-dc676d68f867"
      },
      "source": [
        "t = tensor.squeeze()\n",
        "\n",
        "print(t)\n",
        "print(t.shape)"
      ],
      "execution_count": null,
      "outputs": [
        {
          "output_type": "stream",
          "name": "stdout",
          "text": [
            "tensor([[0.8383, 0.9278, 0.5946],\n",
            "        [0.4247, 0.2110, 0.2066],\n",
            "        [0.6869, 0.3542, 0.7022]])\n",
            "torch.Size([3, 3])\n"
          ]
        }
      ]
    },
    {
      "cell_type": "markdown",
      "metadata": {
        "id": "COv-dnTYNJ8Z"
      },
      "source": [
        "### unsqueeze\n",
        "- 차원을 증가(생성)"
      ]
    },
    {
      "cell_type": "code",
      "metadata": {
        "id": "PFxaHGY1NOBo",
        "colab": {
          "base_uri": "https://localhost:8080/"
        },
        "outputId": "404098b2-5b82-4bf9-c4aa-91820aec2d1a"
      },
      "source": [
        "tensor = torch.rand(1,3,3)\n",
        "print(tensor)\n",
        "print(tensor.shape)"
      ],
      "execution_count": null,
      "outputs": [
        {
          "output_type": "stream",
          "name": "stdout",
          "text": [
            "tensor([[[0.4913, 0.4319, 0.1919],\n",
            "         [0.6936, 0.9970, 0.7170],\n",
            "         [0.0528, 0.5039, 0.2166]]])\n",
            "torch.Size([1, 3, 3])\n"
          ]
        }
      ]
    },
    {
      "cell_type": "code",
      "metadata": {
        "id": "b6sa4tJ7SA8G",
        "colab": {
          "base_uri": "https://localhost:8080/"
        },
        "outputId": "2004eb40-1338-470f-e70c-febb3044154c"
      },
      "source": [
        "t = tensor.unsqueeze(dim=0)\n",
        "\n",
        "print(t)\n",
        "print(t.shape)"
      ],
      "execution_count": null,
      "outputs": [
        {
          "output_type": "stream",
          "name": "stdout",
          "text": [
            "tensor([[[[0.4913, 0.4319, 0.1919],\n",
            "          [0.6936, 0.9970, 0.7170],\n",
            "          [0.0528, 0.5039, 0.2166]]]])\n",
            "torch.Size([1, 1, 3, 3])\n"
          ]
        }
      ]
    },
    {
      "cell_type": "markdown",
      "metadata": {
        "id": "_C_oa9JANOa6"
      },
      "source": [
        "### stack\n",
        "- 텐서간 결합"
      ]
    },
    {
      "cell_type": "code",
      "metadata": {
        "id": "f3x_XaUYNOuc",
        "colab": {
          "base_uri": "https://localhost:8080/"
        },
        "outputId": "b458cf7a-c88b-4d5a-a549-904afce6eeb0"
      },
      "source": [
        "x = torch.FloatTensor([1,4])\n",
        "y = torch.FloatTensor([2,5])\n",
        "z = torch.FloatTensor([3,6])\n",
        "\n",
        "print(torch.stack([x,y,z]))\n"
      ],
      "execution_count": null,
      "outputs": [
        {
          "output_type": "stream",
          "name": "stdout",
          "text": [
            "tensor([[1., 4.],\n",
            "        [2., 5.],\n",
            "        [3., 6.]])\n"
          ]
        }
      ]
    },
    {
      "cell_type": "markdown",
      "metadata": {
        "id": "XmJscbfg35-c"
      },
      "source": [
        "### cat\n",
        "- 텐서를 결합하는 메소드(concatenate)\n",
        "\n",
        "- 넘파이의 `stack`과 유사하지만, 쌓을 dim이 존재해야함\n",
        "  - 예를 들어, 해당 차원을 늘려준 후 결합\n"
      ]
    },
    {
      "cell_type": "code",
      "metadata": {
        "id": "Mv3zlaNm37P1",
        "colab": {
          "base_uri": "https://localhost:8080/"
        },
        "outputId": "a91c45bf-fca1-46f8-fa5d-f4c106ba840c"
      },
      "source": [
        "a = torch.randn(1,1,3,3)\n",
        "b = torch.randn(1,1,3,3)\n",
        "c = torch.cat((a,b),dim=0) #dim 을 지정해주어서 concatenate 할수 있음\n",
        "\n",
        "print(c)\n",
        "print(c.size())"
      ],
      "execution_count": null,
      "outputs": [
        {
          "output_type": "stream",
          "name": "stdout",
          "text": [
            "tensor([[[[-0.2630,  0.8685, -0.0446],\n",
            "          [-0.8090,  2.3118,  0.7826],\n",
            "          [-0.4645, -0.3237,  1.4374]]],\n",
            "\n",
            "\n",
            "        [[[ 0.5433, -1.2211, -0.6538],\n",
            "          [ 0.8603,  0.2144, -1.8619],\n",
            "          [ 0.2144, -0.7490, -0.2696]]]])\n",
            "torch.Size([2, 1, 3, 3])\n"
          ]
        }
      ]
    },
    {
      "cell_type": "code",
      "metadata": {
        "id": "69M5jY60S7Mi",
        "colab": {
          "base_uri": "https://localhost:8080/"
        },
        "outputId": "3a3ea3fa-f992-406f-e9b6-cfa132c9233a"
      },
      "source": [
        "a = torch.randn(1,3,3)\n",
        "b = torch.randn(1,3,3)\n",
        "c = torch.cat((a,b),dim=0) #dim 을 지정해주어서 concatenate 할수 있음\n",
        "\n",
        "print(c)\n",
        "print(c.size())"
      ],
      "execution_count": null,
      "outputs": [
        {
          "output_type": "stream",
          "name": "stdout",
          "text": [
            "tensor([[[-0.5492, -1.0009,  2.4349],\n",
            "         [-0.3532, -1.0132, -1.3099],\n",
            "         [ 0.0301, -1.1264, -0.0550]],\n",
            "\n",
            "        [[ 0.5281, -0.4694, -1.2158],\n",
            "         [ 0.6625, -1.0668,  0.6112],\n",
            "         [ 0.7641, -1.3566,  0.3805]]])\n",
            "torch.Size([2, 3, 3])\n"
          ]
        }
      ]
    },
    {
      "cell_type": "markdown",
      "metadata": {
        "id": "7gGXnOAqQTmG"
      },
      "source": [
        "### chuck\n",
        "- 텐서를 여러 개로 나눌 때 사용\n",
        "\n",
        "- 몇 개의 텐서로 나눌 것이냐"
      ]
    },
    {
      "cell_type": "code",
      "metadata": {
        "id": "pNV80VzPQZgG",
        "colab": {
          "base_uri": "https://localhost:8080/"
        },
        "outputId": "69d82d5e-eb5a-4c8c-c06a-ef5bd922ebfc"
      },
      "source": [
        "tensor = torch.rand(3,6)\n",
        "t1 , t2 , t3 = torch.chunk(tensor,3,dim=1)\n",
        "\n",
        "\n",
        "print(tensor)\n",
        "print(t1)\n",
        "print(t2)\n",
        "print(t3)"
      ],
      "execution_count": null,
      "outputs": [
        {
          "output_type": "stream",
          "name": "stdout",
          "text": [
            "tensor([[0.4626, 0.0887, 0.3786, 0.1701, 0.2679, 0.0998],\n",
            "        [0.3688, 0.1602, 0.0256, 0.3634, 0.4460, 0.4145],\n",
            "        [0.3209, 0.1048, 0.4590, 0.2345, 0.3142, 0.3070]])\n",
            "tensor([[0.4626, 0.0887],\n",
            "        [0.3688, 0.1602],\n",
            "        [0.3209, 0.1048]])\n",
            "tensor([[0.3786, 0.1701],\n",
            "        [0.0256, 0.3634],\n",
            "        [0.4590, 0.2345]])\n",
            "tensor([[0.2679, 0.0998],\n",
            "        [0.4460, 0.4145],\n",
            "        [0.3142, 0.3070]])\n"
          ]
        }
      ]
    },
    {
      "cell_type": "markdown",
      "metadata": {
        "id": "7U0Qb0jWQgm-"
      },
      "source": [
        "### split\n",
        "- `chunck`와 동일한 기능이지만 조금 다름\n",
        "\n",
        "- 하나의 텐서당 크기가 얼마이냐"
      ]
    },
    {
      "cell_type": "code",
      "metadata": {
        "id": "1V6DDnLVQqxz",
        "colab": {
          "base_uri": "https://localhost:8080/"
        },
        "outputId": "e2ca9731-2edd-4207-ec60-b1cf60171e78"
      },
      "source": [
        "tensor = torch.rand(3,6)\n",
        "t1 , t2  = torch.split(tensor,3,dim=1)\n",
        "\n",
        "print(tensor)\n",
        "print(t1)\n",
        "print(t2)\n",
        "print(t3)"
      ],
      "execution_count": null,
      "outputs": [
        {
          "output_type": "stream",
          "name": "stdout",
          "text": [
            "tensor([[0.3979, 0.7244, 0.4657, 0.3653, 0.7872, 0.2820],\n",
            "        [0.7031, 0.1882, 0.5719, 0.2839, 0.3980, 0.5139],\n",
            "        [0.7554, 0.3563, 0.0394, 0.8340, 0.4337, 0.9739]])\n",
            "tensor([[0.3979, 0.7244, 0.4657],\n",
            "        [0.7031, 0.1882, 0.5719],\n",
            "        [0.7554, 0.3563, 0.0394]])\n",
            "tensor([[0.3653, 0.7872, 0.2820],\n",
            "        [0.2839, 0.3980, 0.5139],\n",
            "        [0.8340, 0.4337, 0.9739]])\n",
            "tensor([[0.2679, 0.0998],\n",
            "        [0.4460, 0.4145],\n",
            "        [0.3142, 0.3070]])\n"
          ]
        }
      ]
    },
    {
      "cell_type": "markdown",
      "metadata": {
        "id": "estSwhCgvta6"
      },
      "source": [
        "### torch ↔ numpy\n",
        "- Torch Tensor(텐서)를 Numpy array(배열)로 변환 가능\n",
        "\n",
        "  - `numpy()` tensor -> numpy\n",
        "  - `from_numpy()` numpy -> tensor\n",
        "\n",
        "- (참고)\n",
        "  - Tensor가 CPU상에 있다면 Numpy 배열은 메모리 공간을 공유하므로 하나가 변하면, 다른 하나도 변함"
      ]
    },
    {
      "cell_type": "code",
      "metadata": {
        "id": "VxHI7c_yvmAT",
        "colab": {
          "base_uri": "https://localhost:8080/"
        },
        "outputId": "7c29e039-f9d7-4cd4-f921-1ee2890570b8"
      },
      "source": [
        "a = torch.ones(7)\n",
        "print(a)"
      ],
      "execution_count": null,
      "outputs": [
        {
          "output_type": "stream",
          "name": "stdout",
          "text": [
            "tensor([1., 1., 1., 1., 1., 1., 1.])\n"
          ]
        }
      ]
    },
    {
      "cell_type": "markdown",
      "source": [
        ""
      ],
      "metadata": {
        "id": "Qb5GwIPM4l5Z"
      }
    },
    {
      "cell_type": "code",
      "metadata": {
        "id": "whbrhokHwJ3A"
      },
      "source": [
        "b = a.numpy()"
      ],
      "execution_count": null,
      "outputs": []
    },
    {
      "cell_type": "code",
      "metadata": {
        "id": "5StIhUWDwQjA",
        "colab": {
          "base_uri": "https://localhost:8080/"
        },
        "outputId": "ea4b4f23-b2d6-48b1-accf-8b664adab596"
      },
      "source": [
        "a.add_(1)\n",
        "print(a)\n",
        "print(b)"
      ],
      "execution_count": null,
      "outputs": [
        {
          "output_type": "stream",
          "name": "stdout",
          "text": [
            "tensor([2., 2., 2., 2., 2., 2., 2.])\n",
            "[2. 2. 2. 2. 2. 2. 2.]\n"
          ]
        }
      ]
    },
    {
      "cell_type": "code",
      "metadata": {
        "id": "3RNS5-cRwTt8",
        "colab": {
          "base_uri": "https://localhost:8080/"
        },
        "outputId": "11da5714-2475-48d0-d24e-ded68d244f1a"
      },
      "source": [
        "import numpy as np\n",
        "\n",
        "a = np.ones(7)\n",
        "b = torch.from_numpy(a)\n",
        "np.add(a, 1, out = a)\n",
        "\n",
        "print(a)\n",
        "print(b)\n"
      ],
      "execution_count": null,
      "outputs": [
        {
          "output_type": "stream",
          "name": "stdout",
          "text": [
            "[2. 2. 2. 2. 2. 2. 2.]\n",
            "tensor([2., 2., 2., 2., 2., 2., 2.], dtype=torch.float64)\n"
          ]
        }
      ]
    },
    {
      "cell_type": "markdown",
      "metadata": {
        "id": "v-ZaxSvLxEej"
      },
      "source": [
        "## CUDA Tensors\n",
        "- `.to` 메소드를 사용하여 텐서를 어떠한 장치로도 옮길 수 있음\n",
        "  - 예) cpu, gpu"
      ]
    },
    {
      "cell_type": "code",
      "metadata": {
        "id": "xkaQznCRxpUj"
      },
      "source": [
        "import torch"
      ],
      "execution_count": null,
      "outputs": []
    },
    {
      "cell_type": "code",
      "metadata": {
        "id": "SCnC0x2Rxpbk",
        "colab": {
          "base_uri": "https://localhost:8080/"
        },
        "outputId": "904908a0-4ae8-4ea7-f24a-4e39e93726bc"
      },
      "source": [
        "x = torch.rand(1)\n",
        "print(x)\n",
        "print(x.item())\n",
        "print(x.dtype)\n"
      ],
      "execution_count": null,
      "outputs": [
        {
          "output_type": "stream",
          "name": "stdout",
          "text": [
            "tensor([0.8913])\n",
            "0.8912689089775085\n",
            "torch.float32\n"
          ]
        }
      ]
    },
    {
      "cell_type": "code",
      "metadata": {
        "id": "GcSsFLkDw-nI",
        "colab": {
          "base_uri": "https://localhost:8080/"
        },
        "outputId": "9483e0d5-88af-43c2-886a-bc5a19fd586c"
      },
      "source": [
        "device = torch.device(\"cuda\" if torch.cuda.is_available() else \"cpu\")\n",
        "\n",
        "y = torch.ones_like(x, device=device)\n",
        "x = x.to(device)\n",
        "z = x + y\n",
        "\n",
        "print(device)\n",
        "print(z)\n",
        "print(z.to(\"cpu\", torch.double))"
      ],
      "execution_count": null,
      "outputs": [
        {
          "output_type": "stream",
          "name": "stdout",
          "text": [
            "cuda\n",
            "tensor([1.8913], device='cuda:0')\n",
            "tensor([1.8913], dtype=torch.float64)\n"
          ]
        }
      ]
    },
    {
      "cell_type": "markdown",
      "metadata": {
        "id": "NKqiGvLWx2nk"
      },
      "source": [
        "## AUTOGRAD (자동미분)\n",
        "- autograd 패키지는 Tensor의 모든 연산에 대해 **자동 미분** 제공\n",
        "\n",
        "- 이는 코드를 어떻게 작성하여 실행하느냐에 따라 역전파가 정의된다는 뜻\n",
        "\n",
        "- backprop를 위한 미분값을 자동으로 계산"
      ]
    },
    {
      "cell_type": "markdown",
      "metadata": {
        "id": "0zH41l-MyMHi"
      },
      "source": [
        "### Tensor\n",
        "\n",
        "- data: tensor형태의 데이터\n",
        "\n",
        "- grad: data가 겨쳐온 layer에 대한 미분값 저장\n",
        "\n",
        "- grad_fn: 미분값을 계산한 함수에 대한 정보 저장 (어떤 함수에 대해서 backprop 했는지)\n",
        "\n",
        "- `requires_grad` 속성을 `True`로 설정하면, 해당 텐서에서 이루어지는 모든 연산들을 추적하기 시작\n",
        "\n",
        "- 계산이 완료된 후, `.backward()`를 호출하면 자동으로 `gradient`를 계산할 수 있으며, `.grad` 속성에 누적됨\n",
        "\n",
        "- 기록을 추적하는 것을 중단하게 하려면, `.detach()`를 호출하여 연산기록으로부터 분리\n",
        "\n",
        "- 기록을 추적하는 것을 방지하기 위해 코드 블럭을 `with torch.no_grad():`로 감싸면 `gradient`는 필요없지만, `requires_grad=True`로 설정되어 학습 가능한 매개변수를 갖는 모델을 평가(evaluate)할 때 유용\n",
        "\n",
        "- Autograd 구현에서 매우 중요한 클래스 : `Function` 클래스"
      ]
    },
    {
      "cell_type": "code",
      "metadata": {
        "id": "ipdk_1jfx47I"
      },
      "source": [
        "import torch"
      ],
      "execution_count": null,
      "outputs": []
    },
    {
      "cell_type": "code",
      "metadata": {
        "id": "ljNU-r9p0Rpo",
        "colab": {
          "base_uri": "https://localhost:8080/"
        },
        "outputId": "0ce3ca03-2988-4b22-d840-216e928cf96c"
      },
      "source": [
        "x = torch.ones(3,3, requires_grad=True)\n",
        "print(x)"
      ],
      "execution_count": null,
      "outputs": [
        {
          "output_type": "stream",
          "name": "stdout",
          "text": [
            "tensor([[1., 1., 1.],\n",
            "        [1., 1., 1.],\n",
            "        [1., 1., 1.]], requires_grad=True)\n"
          ]
        }
      ]
    },
    {
      "cell_type": "code",
      "metadata": {
        "id": "or6sQ4EB0UYz",
        "colab": {
          "base_uri": "https://localhost:8080/"
        },
        "outputId": "1f3d3f5c-dd22-4e13-e9a4-634f4f7dd71f"
      },
      "source": [
        "y = x + 5\n",
        "\n",
        "print(y)\n"
      ],
      "execution_count": null,
      "outputs": [
        {
          "output_type": "stream",
          "name": "stdout",
          "text": [
            "tensor([[6., 6., 6.],\n",
            "        [6., 6., 6.],\n",
            "        [6., 6., 6.]], grad_fn=<AddBackward0>)\n"
          ]
        }
      ]
    },
    {
      "cell_type": "code",
      "metadata": {
        "id": "PuQ7xDmu0Wpj",
        "colab": {
          "base_uri": "https://localhost:8080/"
        },
        "outputId": "7f5e014d-9e4d-4b69-f8b3-147aba251451"
      },
      "source": [
        "print(y.grad_fn)"
      ],
      "execution_count": null,
      "outputs": [
        {
          "output_type": "stream",
          "name": "stdout",
          "text": [
            "<AddBackward0 object at 0x7fa62f93ed50>\n"
          ]
        }
      ]
    },
    {
      "cell_type": "code",
      "metadata": {
        "id": "6_2iM-Zq0ZdG",
        "colab": {
          "base_uri": "https://localhost:8080/"
        },
        "outputId": "e062d25f-dc96-4ba2-9db3-25dcf1cd8477"
      },
      "source": [
        "z = y * y *2\n",
        "out = z.mean()\n",
        "\n",
        "print(z, out)"
      ],
      "execution_count": null,
      "outputs": [
        {
          "output_type": "stream",
          "name": "stdout",
          "text": [
            "tensor([[72., 72., 72.],\n",
            "        [72., 72., 72.],\n",
            "        [72., 72., 72.]], grad_fn=<MulBackward0>) tensor(72., grad_fn=<MeanBackward0>)\n"
          ]
        }
      ]
    },
    {
      "cell_type": "markdown",
      "metadata": {
        "id": "2aZ8SWn_0nqt"
      },
      "source": [
        "- `requires_grad_(...)`는 기존 텐서의 `requires_grad`값을 바꿔치기(`in-place`)하여 변경"
      ]
    },
    {
      "cell_type": "code",
      "metadata": {
        "id": "mHGROgrM0ebO",
        "colab": {
          "base_uri": "https://localhost:8080/"
        },
        "outputId": "d34a8397-4efa-45c8-adb8-a3124f42dc02"
      },
      "source": [
        "a = torch.rand(3,3)\n",
        "a = ((a * 3) / (a-1))\n",
        "print(a.requires_grad)\n",
        "\n",
        "a.requires_grad_(True)\n",
        "print(a.requires_grad)\n",
        "\n",
        "b= (a*a).sum()\n",
        "print(b.grad_fn)"
      ],
      "execution_count": null,
      "outputs": [
        {
          "output_type": "stream",
          "name": "stdout",
          "text": [
            "False\n",
            "True\n",
            "<SumBackward0 object at 0x7fa62f93e590>\n"
          ]
        }
      ]
    },
    {
      "cell_type": "markdown",
      "metadata": {
        "id": "KiEn_stZ1VgU"
      },
      "source": [
        "### 기울기(Gradient)\n",
        "- 역전파: `.backward()`를 통해 역전파 계산 가능"
      ]
    },
    {
      "cell_type": "code",
      "metadata": {
        "id": "1tdoN9p-1kn4",
        "colab": {
          "base_uri": "https://localhost:8080/"
        },
        "outputId": "cc758ebf-1af6-4173-c312-be9d649069ff"
      },
      "source": [
        "print(x.grad)"
      ],
      "execution_count": null,
      "outputs": [
        {
          "output_type": "stream",
          "name": "stdout",
          "text": [
            "None\n"
          ]
        }
      ]
    },
    {
      "cell_type": "code",
      "metadata": {
        "id": "CixGTXbV1B9p",
        "colab": {
          "base_uri": "https://localhost:8080/"
        },
        "outputId": "bc827e98-8ec5-418b-efd9-9465461a5f0f"
      },
      "source": [
        "x = torch.randn(3, requires_grad=True)\n",
        "\n",
        "y = x * 2\n",
        "while y.data.norm()< 1000:\n",
        "  y = y*2\n",
        "\n",
        "print(y)"
      ],
      "execution_count": null,
      "outputs": [
        {
          "output_type": "stream",
          "name": "stdout",
          "text": [
            "tensor([ 285.0137, 1102.4777, -254.5898], grad_fn=<MulBackward0>)\n"
          ]
        }
      ]
    },
    {
      "cell_type": "code",
      "metadata": {
        "id": "SY63Mcc-1iNI",
        "colab": {
          "base_uri": "https://localhost:8080/"
        },
        "outputId": "ca2c01d7-cd9a-4e09-e0a3-0fa4cd718e5d"
      },
      "source": [
        "v = torch.tensor([0.1,1.0,0.0001],dtype=torch.float)\n",
        "y.backward(v)\n",
        "print(x.grad)"
      ],
      "execution_count": null,
      "outputs": [
        {
          "output_type": "stream",
          "name": "stdout",
          "text": [
            "tensor([1.0240e+02, 1.0240e+03, 1.0240e-01])\n"
          ]
        }
      ]
    },
    {
      "cell_type": "markdown",
      "metadata": {
        "id": "0b9amArPXtcX"
      },
      "source": [
        "- `with torch.no_grad()`를 사용하여 gradient의 업데이트를 하지 않음"
      ]
    },
    {
      "cell_type": "code",
      "metadata": {
        "id": "weeIe5_Z3jVe",
        "colab": {
          "base_uri": "https://localhost:8080/"
        },
        "outputId": "fafa8abc-adb0-4099-b274-b5efd54712fd"
      },
      "source": [
        "print(x.requires_grad)\n",
        "print((x**2).requires_grad)\n",
        "\n",
        "with torch.no_grad():\n",
        "  print((x**2).requires_grad)"
      ],
      "execution_count": null,
      "outputs": [
        {
          "output_type": "stream",
          "name": "stdout",
          "text": [
            "True\n",
            "True\n",
            "False\n"
          ]
        }
      ]
    },
    {
      "cell_type": "markdown",
      "metadata": {
        "id": "bLcTLVRSmCdH"
      },
      "source": [
        "- `detach()`: 내용물(content)은 같지만 require_grad가 다른 새로운 Tensor를 가져올 때"
      ]
    },
    {
      "cell_type": "code",
      "metadata": {
        "id": "ALcth7Ew3l7H",
        "colab": {
          "base_uri": "https://localhost:8080/"
        },
        "outputId": "efaac094-59e7-4462-afc4-763862f5ec30"
      },
      "source": [
        "print(x.requires_grad)\n",
        "y = x.detach()\n",
        "print(y.requires_grad)\n",
        "print(x.eq(y).all())\n"
      ],
      "execution_count": null,
      "outputs": [
        {
          "output_type": "stream",
          "name": "stdout",
          "text": [
            "True\n",
            "False\n",
            "tensor(True)\n"
          ]
        }
      ]
    },
    {
      "cell_type": "markdown",
      "metadata": {
        "id": "NSarysrqBh9D"
      },
      "source": [
        "### 자동 미분 흐름 다시 보기(1)\n",
        "- 계산 흐름  \n",
        "  $a \\rightarrow b  \\rightarrow c  \\rightarrow out $\n",
        "\n",
        "<br>\n",
        "\n",
        "## $\\quad \\frac{\\partial out}{\\partial a} = ?$\n",
        "- `backward()`를 통해  \n",
        "  $a \\leftarrow b  \\leftarrow c  \\leftarrow out $을 계산하면  \n",
        "    $\\frac{\\partial out}{\\partial a}$값이 `a.grad`에 채워짐\n"
      ]
    },
    {
      "cell_type": "code",
      "metadata": {
        "id": "NUAc1etP3oBc"
      },
      "source": [
        "import torch"
      ],
      "execution_count": null,
      "outputs": []
    },
    {
      "cell_type": "code",
      "metadata": {
        "id": "tCW7dq9uB89T",
        "colab": {
          "base_uri": "https://localhost:8080/"
        },
        "outputId": "a1330aba-1216-44d9-d92f-e71f202197df"
      },
      "source": [
        "a = torch.ones(2,2)\n",
        "print(a)"
      ],
      "execution_count": null,
      "outputs": [
        {
          "output_type": "stream",
          "name": "stdout",
          "text": [
            "tensor([[1., 1.],\n",
            "        [1., 1.]])\n"
          ]
        }
      ]
    },
    {
      "cell_type": "code",
      "metadata": {
        "id": "-AyyGy49FLz9",
        "colab": {
          "base_uri": "https://localhost:8080/"
        },
        "outputId": "befda66a-d93f-4d0f-c7f7-dfd283661baa"
      },
      "source": [
        "a = torch.ones(2,2, requires_grad=True)\n",
        "print(a)"
      ],
      "execution_count": null,
      "outputs": [
        {
          "output_type": "stream",
          "name": "stdout",
          "text": [
            "tensor([[1., 1.],\n",
            "        [1., 1.]], requires_grad=True)\n"
          ]
        }
      ]
    },
    {
      "cell_type": "code",
      "metadata": {
        "id": "SmmJa-hvFPGH",
        "colab": {
          "base_uri": "https://localhost:8080/"
        },
        "outputId": "90ae93c0-9a34-47d3-9778-f3326a672f0b"
      },
      "source": [
        "print(\"a.data:\",a)\n",
        "print(\"a.grad:\", a.grad)\n",
        "print(\"a.grad:\", a.grad_fn)"
      ],
      "execution_count": null,
      "outputs": [
        {
          "output_type": "stream",
          "name": "stdout",
          "text": [
            "a.data: tensor([[1., 1.],\n",
            "        [1., 1.]], requires_grad=True)\n",
            "a.grad: None\n",
            "a.grad: None\n"
          ]
        }
      ]
    },
    {
      "cell_type": "markdown",
      "metadata": {
        "id": "BCwhTsiHGCmG"
      },
      "source": [
        "- $b = a + 2$"
      ]
    },
    {
      "cell_type": "code",
      "metadata": {
        "id": "iUPt042iF9V1",
        "colab": {
          "base_uri": "https://localhost:8080/"
        },
        "outputId": "58061790-7c91-4c16-cfcd-f47b823263c1"
      },
      "source": [
        "b = a + 2\n",
        "\n",
        "print(b)"
      ],
      "execution_count": null,
      "outputs": [
        {
          "output_type": "stream",
          "name": "stdout",
          "text": [
            "tensor([[3., 3.],\n",
            "        [3., 3.]], grad_fn=<AddBackward0>)\n"
          ]
        }
      ]
    },
    {
      "cell_type": "markdown",
      "metadata": {
        "id": "6cw2zoq9GHLF"
      },
      "source": [
        "- $c = b^2$ "
      ]
    },
    {
      "cell_type": "code",
      "metadata": {
        "id": "FRDS6gP0GFZG",
        "colab": {
          "base_uri": "https://localhost:8080/"
        },
        "outputId": "a6969073-7613-4f22-daa3-7b5d7adb23b5"
      },
      "source": [
        "c = b**2\n",
        "print(c)"
      ],
      "execution_count": null,
      "outputs": [
        {
          "output_type": "stream",
          "name": "stdout",
          "text": [
            "tensor([[9., 9.],\n",
            "        [9., 9.]], grad_fn=<PowBackward0>)\n"
          ]
        }
      ]
    },
    {
      "cell_type": "code",
      "metadata": {
        "id": "VynoiUywGSwh",
        "colab": {
          "base_uri": "https://localhost:8080/"
        },
        "outputId": "cdc0ff82-e081-4c7d-adda-08cd3fdbf7e9"
      },
      "source": [
        "out = c.sum()\n",
        "print(out)"
      ],
      "execution_count": null,
      "outputs": [
        {
          "output_type": "stream",
          "name": "stdout",
          "text": [
            "tensor(36., grad_fn=<SumBackward0>)\n"
          ]
        }
      ]
    },
    {
      "cell_type": "code",
      "metadata": {
        "id": "v3ryJon9GeMn",
        "colab": {
          "base_uri": "https://localhost:8080/"
        },
        "outputId": "f64e5836-f270-463a-aed9-f040271495d7"
      },
      "source": [
        "print(out)\n",
        "out.backward()"
      ],
      "execution_count": null,
      "outputs": [
        {
          "output_type": "stream",
          "name": "stdout",
          "text": [
            "tensor(36., grad_fn=<SumBackward0>)\n"
          ]
        }
      ]
    },
    {
      "cell_type": "markdown",
      "metadata": {
        "id": "f0aoNsPDHsoG"
      },
      "source": [
        "- a의 `grad_fn`이 None인 이유  \n",
        "  직접적으로 계산한 부분이 없었기 때문"
      ]
    },
    {
      "cell_type": "code",
      "metadata": {
        "id": "bccI4vIWGgqj",
        "colab": {
          "base_uri": "https://localhost:8080/"
        },
        "outputId": "9ef3f0d9-aac8-4ca7-e0c6-70a539e2c934"
      },
      "source": [
        "print(\"a.data:\",a.data)\n",
        "print(\"a.grad:\", a.grad)\n",
        "print(\"a.grad:\", a.grad_fn)"
      ],
      "execution_count": null,
      "outputs": [
        {
          "output_type": "stream",
          "name": "stdout",
          "text": [
            "a.data: tensor([[1., 1.],\n",
            "        [1., 1.]])\n",
            "a.grad: tensor([[6., 6.],\n",
            "        [6., 6.]])\n",
            "a.grad: None\n"
          ]
        }
      ]
    },
    {
      "cell_type": "code",
      "metadata": {
        "id": "oka1mkadHq-N",
        "colab": {
          "base_uri": "https://localhost:8080/"
        },
        "outputId": "9be29bd8-b6a4-475a-a724-f08d74f7d94f"
      },
      "source": [
        "print(\"b.data:\",b.data)\n",
        "print(\"b.grad:\", b.grad)\n",
        "print(\"b.grad:\", b.grad_fn)"
      ],
      "execution_count": null,
      "outputs": [
        {
          "output_type": "stream",
          "name": "stdout",
          "text": [
            "b.data: tensor([[3., 3.],\n",
            "        [3., 3.]])\n",
            "b.grad: None\n",
            "b.grad: <AddBackward0 object at 0x7fa630e4cb50>\n"
          ]
        },
        {
          "output_type": "stream",
          "name": "stderr",
          "text": [
            "/usr/local/lib/python3.7/dist-packages/torch/_tensor.py:1013: UserWarning: The .grad attribute of a Tensor that is not a leaf Tensor is being accessed. Its .grad attribute won't be populated during autograd.backward(). If you indeed want the .grad field to be populated for a non-leaf Tensor, use .retain_grad() on the non-leaf Tensor. If you access the non-leaf Tensor by mistake, make sure you access the leaf Tensor instead. See github.com/pytorch/pytorch/pull/30531 for more informations. (Triggered internally at  aten/src/ATen/core/TensorBody.h:417.)\n",
            "  return self._grad\n"
          ]
        }
      ]
    },
    {
      "cell_type": "code",
      "metadata": {
        "id": "ZiYNajdLccUF",
        "colab": {
          "base_uri": "https://localhost:8080/"
        },
        "outputId": "03c1b2d6-78cc-4638-81cf-ce439f25eddb"
      },
      "source": [
        "print(\"c.data:\",c.data)\n",
        "print(\"c.grad:\", c.grad)\n",
        "print(\"c.grad:\", c.grad_fn)"
      ],
      "execution_count": null,
      "outputs": [
        {
          "output_type": "stream",
          "name": "stdout",
          "text": [
            "c.data: tensor([[9., 9.],\n",
            "        [9., 9.]])\n",
            "c.grad: None\n",
            "c.grad: <PowBackward0 object at 0x7fa63a21ec50>\n"
          ]
        },
        {
          "output_type": "stream",
          "name": "stderr",
          "text": [
            "/usr/local/lib/python3.7/dist-packages/torch/_tensor.py:1013: UserWarning: The .grad attribute of a Tensor that is not a leaf Tensor is being accessed. Its .grad attribute won't be populated during autograd.backward(). If you indeed want the .grad field to be populated for a non-leaf Tensor, use .retain_grad() on the non-leaf Tensor. If you access the non-leaf Tensor by mistake, make sure you access the leaf Tensor instead. See github.com/pytorch/pytorch/pull/30531 for more informations. (Triggered internally at  aten/src/ATen/core/TensorBody.h:417.)\n",
            "  return self._grad\n"
          ]
        }
      ]
    },
    {
      "cell_type": "code",
      "metadata": {
        "id": "BcLoMYite0vU",
        "colab": {
          "base_uri": "https://localhost:8080/"
        },
        "outputId": "1699ea9e-fac7-477d-ca3f-98e996a61c0c"
      },
      "source": [
        "print(\"out.data:\",out.data)\n",
        "print(\"out.grad:\", out.grad)\n",
        "print(\"out.grad:\", out.grad_fn)"
      ],
      "execution_count": null,
      "outputs": [
        {
          "output_type": "stream",
          "name": "stdout",
          "text": [
            "out.data: tensor(36.)\n",
            "out.grad: None\n",
            "out.grad: <SumBackward0 object at 0x7fa630e4c650>\n"
          ]
        },
        {
          "output_type": "stream",
          "name": "stderr",
          "text": [
            "/usr/local/lib/python3.7/dist-packages/torch/_tensor.py:1013: UserWarning: The .grad attribute of a Tensor that is not a leaf Tensor is being accessed. Its .grad attribute won't be populated during autograd.backward(). If you indeed want the .grad field to be populated for a non-leaf Tensor, use .retain_grad() on the non-leaf Tensor. If you access the non-leaf Tensor by mistake, make sure you access the leaf Tensor instead. See github.com/pytorch/pytorch/pull/30531 for more informations. (Triggered internally at  aten/src/ATen/core/TensorBody.h:417.)\n",
            "  return self._grad\n"
          ]
        }
      ]
    },
    {
      "cell_type": "markdown",
      "metadata": {
        "id": "qZXgwviHfovj"
      },
      "source": [
        "### 자동 미분 흐름 다시 보기(2)\n",
        "- `grad`값을 넣어서 `backward`\n",
        "\n",
        "- 아래의 코드에서 `.grad`값이 None은 gradient값이 필요하지 않기 때문"
      ]
    },
    {
      "cell_type": "code",
      "metadata": {
        "id": "bB6DCYXRfcI_",
        "colab": {
          "base_uri": "https://localhost:8080/"
        },
        "outputId": "13c9bdc9-b71b-4bca-ea7f-95ca65a6c202"
      },
      "source": [
        "x = torch.ones(3 , requires_grad=True)\n",
        "y = (x**2)\n",
        "z = y ** 2 + x\n",
        "out = z.sum()\n",
        "print(out)"
      ],
      "execution_count": null,
      "outputs": [
        {
          "output_type": "stream",
          "name": "stdout",
          "text": [
            "tensor(6., grad_fn=<SumBackward0>)\n"
          ]
        }
      ]
    },
    {
      "cell_type": "code",
      "metadata": {
        "id": "AVo-glm8fvFv"
      },
      "source": [
        "grad = torch.Tensor([0.1,1,100])\n",
        "z.backward(grad)"
      ],
      "execution_count": null,
      "outputs": []
    },
    {
      "cell_type": "code",
      "metadata": {
        "id": "tdBklrepf2qq",
        "colab": {
          "base_uri": "https://localhost:8080/"
        },
        "outputId": "e6850e72-bd80-41d0-a60b-0da1a71abd27"
      },
      "source": [
        "print(\"x.data:\",x.data)\n",
        "print(\"x.grad:\", x.grad)\n",
        "print(\"x.grad:\", x.grad_fn)"
      ],
      "execution_count": null,
      "outputs": [
        {
          "output_type": "stream",
          "name": "stdout",
          "text": [
            "x.data: tensor([1., 1., 1.])\n",
            "x.grad: tensor([  0.5000,   5.0000, 500.0000])\n",
            "x.grad: None\n"
          ]
        }
      ]
    },
    {
      "cell_type": "code",
      "metadata": {
        "id": "HQvUGlfRf7jU",
        "colab": {
          "base_uri": "https://localhost:8080/"
        },
        "outputId": "78e75482-3eca-4a93-aba6-2803060a1316"
      },
      "source": [
        "print(\"y.data:\",y.data)\n",
        "print(\"y.grad:\", y.grad)\n",
        "print(\"y.grad:\", y.grad_fn)"
      ],
      "execution_count": null,
      "outputs": [
        {
          "output_type": "stream",
          "name": "stdout",
          "text": [
            "y.data: tensor([1., 1., 1.])\n",
            "y.grad: None\n",
            "y.grad: <PowBackward0 object at 0x7fa630e92650>\n"
          ]
        },
        {
          "output_type": "stream",
          "name": "stderr",
          "text": [
            "/usr/local/lib/python3.7/dist-packages/torch/_tensor.py:1013: UserWarning: The .grad attribute of a Tensor that is not a leaf Tensor is being accessed. Its .grad attribute won't be populated during autograd.backward(). If you indeed want the .grad field to be populated for a non-leaf Tensor, use .retain_grad() on the non-leaf Tensor. If you access the non-leaf Tensor by mistake, make sure you access the leaf Tensor instead. See github.com/pytorch/pytorch/pull/30531 for more informations. (Triggered internally at  aten/src/ATen/core/TensorBody.h:417.)\n",
            "  return self._grad\n"
          ]
        }
      ]
    },
    {
      "cell_type": "code",
      "metadata": {
        "id": "h7TFHdMfgxvW",
        "colab": {
          "base_uri": "https://localhost:8080/"
        },
        "outputId": "e16fa2f4-81d9-42d7-d683-15242bf037f5"
      },
      "source": [
        "print(\"z.data:\",z.data)\n",
        "print(\"z.grad:\", z.grad)\n",
        "print(\"z.grad:\", z.grad_fn)"
      ],
      "execution_count": null,
      "outputs": [
        {
          "output_type": "stream",
          "name": "stdout",
          "text": [
            "z.data: tensor([2., 2., 2.])\n",
            "z.grad: None\n",
            "z.grad: <AddBackward0 object at 0x7fa6329bdcd0>\n"
          ]
        },
        {
          "output_type": "stream",
          "name": "stderr",
          "text": [
            "/usr/local/lib/python3.7/dist-packages/torch/_tensor.py:1013: UserWarning: The .grad attribute of a Tensor that is not a leaf Tensor is being accessed. Its .grad attribute won't be populated during autograd.backward(). If you indeed want the .grad field to be populated for a non-leaf Tensor, use .retain_grad() on the non-leaf Tensor. If you access the non-leaf Tensor by mistake, make sure you access the leaf Tensor instead. See github.com/pytorch/pytorch/pull/30531 for more informations. (Triggered internally at  aten/src/ATen/core/TensorBody.h:417.)\n",
            "  return self._grad\n"
          ]
        }
      ]
    },
    {
      "cell_type": "markdown",
      "metadata": {
        "id": "DKv-osmNmWiA"
      },
      "source": [
        "## nn & nn.functional\n",
        "\n",
        "- 두 패키지가 같은 기능이지만 방식이 조금 다름\n",
        "\n",
        "- 위의 `autograd` 관련 작업들을 두 패키지를 통해 진행할 수 있음\n",
        "\n",
        "- 텐서를 직접 다룰 때 `requires_grad`와 같은 방식으로 진행할 수 있음\n",
        "\n",
        "- 결론적으로, `torch.nn`은 attribute를 활용해 state를 저장하고 활용하고,  \n",
        "  `torch.nn.functional`로 구현한 함수의 경우에는 인스턴스화 시킬 필요 없이 사용이 가능\n",
        " \n"
      ]
    },
    {
      "cell_type": "markdown",
      "metadata": {
        "id": "jk8fkKq3nWP1"
      },
      "source": [
        "### nn 패키지\n",
        "\n",
        "- 주로 가중치(weights), 편향(bias)값들이 내부에서 자동으로 생성되는 레이어들을 사용할 때  \n",
        "  - 따라서, `weight`값들을 직접 선언 안함\n",
        "\n",
        "- 예시\n",
        "  - Containers\n",
        "\n",
        "  - Convolution Layers\n",
        "\n",
        "  - Pooling layers\n",
        "\n",
        "  - Padding Layers\n",
        "\n",
        "  - Non-linear Activations (weighted sum, nonlinearity)\n",
        "\n",
        "  - Non-linear Activations (other)\n",
        "\n",
        "  - Normalization Layers\n",
        "\n",
        "  - Recurrent Layers\n",
        "\n",
        "  - Transformer Layers\n",
        "\n",
        "  - Linear Layers\n",
        "\n",
        "  - Dropout Layers\n",
        "\n",
        "  - Sparse Layers\n",
        "\n",
        "  - Distance Functions\n",
        "\n",
        "  - Loss Functions\n",
        "\n",
        "  - ..\n",
        "- https://pytorch.org/docs/stable/nn.html\n",
        "\n"
      ]
    },
    {
      "cell_type": "code",
      "metadata": {
        "id": "8tEtWHAsmZMy"
      },
      "source": [
        "import torch\n",
        "import torch.nn as nn"
      ],
      "execution_count": null,
      "outputs": []
    },
    {
      "cell_type": "markdown",
      "metadata": {
        "id": "NcjCbeEQqPSI"
      },
      "source": [
        "- Convolution Layer 예시 (1)\n"
      ]
    },
    {
      "cell_type": "code",
      "metadata": {
        "id": "NQ7Y0tCOpkhM",
        "colab": {
          "base_uri": "https://localhost:8080/"
        },
        "outputId": "4a1118ab-9bde-4800-bb5b-07aa5d040a8a"
      },
      "source": [
        "m = nn.Conv2d(16,33,3,stride=2)\n",
        "\n",
        "m = nn.Conv2d(16,33,(3,5),stride=(2,1),padding=(4,2))\n",
        "\n",
        "m = nn.Conv2d(16,33,(3,5),stride=(2,1),padding=(4,2), dilation=(3,1))\n",
        "\n",
        "input = torch.randn(20, 16, 50, 100)\n",
        "print(input)\n",
        "output = m(input)"
      ],
      "execution_count": null,
      "outputs": [
        {
          "output_type": "stream",
          "name": "stdout",
          "text": [
            "tensor([[[[-1.0615e+00, -1.4783e-01,  1.0473e+00,  ...,  7.1682e-01,\n",
            "            6.6808e-01,  1.6537e+00],\n",
            "          [-6.9787e-01, -6.7483e-01,  8.5247e-01,  ...,  8.4984e-01,\n",
            "           -4.9159e-01,  4.1479e-01],\n",
            "          [-5.3170e-01,  1.6097e-01,  7.0747e-03,  ...,  7.0569e-02,\n",
            "            1.0230e+00,  1.7408e+00],\n",
            "          ...,\n",
            "          [-1.7745e-01,  2.8871e-01,  2.6899e-01,  ...,  2.7770e-03,\n",
            "            2.1024e-01,  1.6930e-01],\n",
            "          [ 1.0967e+00, -9.2926e-01, -2.0534e+00,  ...,  2.4486e-01,\n",
            "           -1.1015e+00, -1.7627e-01],\n",
            "          [ 1.0313e+00,  4.8190e-01,  3.0745e-01,  ...,  8.0630e-02,\n",
            "           -7.0561e-02,  7.5411e-01]],\n",
            "\n",
            "         [[-1.1165e+00, -7.6788e-01, -1.5105e-02,  ..., -9.2007e-01,\n",
            "           -8.0240e-01, -1.5309e+00],\n",
            "          [ 2.2677e-01,  1.3647e+00,  8.5355e-01,  ...,  2.0922e+00,\n",
            "            3.9061e-01,  1.0293e+00],\n",
            "          [-6.0166e-01,  3.4701e-01, -2.6665e-01,  ...,  8.0142e-02,\n",
            "           -1.1969e+00,  5.1003e-01],\n",
            "          ...,\n",
            "          [ 2.5225e-02,  2.7989e-01, -4.1240e-01,  ..., -8.7905e-01,\n",
            "           -1.1678e-01, -1.8247e+00],\n",
            "          [ 6.1267e-01,  1.3276e-01,  1.8187e+00,  ..., -3.3211e-01,\n",
            "           -5.1568e-01,  1.6324e-01],\n",
            "          [ 8.2833e-01, -1.3087e+00,  8.3799e-02,  ..., -5.2952e-02,\n",
            "           -1.4860e+00, -1.0095e-01]],\n",
            "\n",
            "         [[-1.5802e-01, -1.4224e+00,  1.3550e+00,  ...,  2.0176e+00,\n",
            "           -7.0434e-01,  6.6695e-01],\n",
            "          [-1.4012e+00, -3.1078e-01, -3.8936e-01,  ..., -7.1568e-01,\n",
            "           -1.0268e+00,  1.3525e+00],\n",
            "          [ 4.0757e-01, -1.3921e+00, -2.7141e+00,  ..., -2.5031e-01,\n",
            "            6.7337e-02,  2.9569e-01],\n",
            "          ...,\n",
            "          [-2.0668e-01, -1.8055e+00, -6.8866e-01,  ..., -1.0855e+00,\n",
            "           -6.9535e-02, -9.5186e-01],\n",
            "          [ 1.9755e+00,  2.2260e-01,  2.1066e+00,  ...,  8.9271e-01,\n",
            "           -1.8454e+00,  3.3254e-01],\n",
            "          [-1.5432e+00, -5.1160e-01,  1.1632e+00,  ...,  6.0815e-01,\n",
            "           -6.7053e-01,  2.0339e+00]],\n",
            "\n",
            "         ...,\n",
            "\n",
            "         [[-6.6685e-01,  5.3057e-01,  1.0013e+00,  ...,  1.9660e+00,\n",
            "            1.2915e+00, -1.0101e+00],\n",
            "          [-1.5057e+00, -1.3684e+00,  1.6413e-01,  ...,  1.4071e+00,\n",
            "           -3.8284e-01,  1.0637e+00],\n",
            "          [ 7.2793e-01, -7.9449e-01,  5.7707e-01,  ...,  3.9504e-01,\n",
            "            4.7230e-01,  4.0593e-01],\n",
            "          ...,\n",
            "          [ 1.0345e+00, -1.0725e+00,  9.9269e-01,  ...,  2.9645e-01,\n",
            "            2.5250e-01,  1.5494e-01],\n",
            "          [ 2.7316e-01, -1.5027e-01, -7.7547e-01,  ...,  1.6371e+00,\n",
            "           -1.0214e+00,  1.7576e+00],\n",
            "          [ 2.5199e-01,  8.1318e-01, -1.3990e+00,  ...,  1.0289e+00,\n",
            "           -1.8585e-01, -8.7271e-01]],\n",
            "\n",
            "         [[ 9.6413e-01, -1.6153e-01,  3.2796e-01,  ...,  1.1169e+00,\n",
            "            9.9394e-01, -1.0594e+00],\n",
            "          [-4.3344e-01, -1.4128e+00,  1.0884e+00,  ...,  2.5003e-01,\n",
            "           -4.9769e-01,  8.5282e-01],\n",
            "          [ 7.7987e-02,  1.9434e-02, -1.8081e-02,  ...,  7.8968e-01,\n",
            "            3.8493e-01,  7.1872e-01],\n",
            "          ...,\n",
            "          [ 1.2163e+00, -3.0700e-04, -5.9514e-01,  ...,  1.4226e-01,\n",
            "           -1.8267e+00,  7.4799e-01],\n",
            "          [-3.0999e-01,  2.0536e+00, -5.5771e-01,  ..., -5.2691e-01,\n",
            "            1.3749e+00, -9.9398e-01],\n",
            "          [-9.1080e-01,  5.8005e-01, -1.2305e+00,  ...,  2.7910e+00,\n",
            "            1.4889e+00,  6.1318e-01]],\n",
            "\n",
            "         [[-7.9242e-01, -1.5639e+00, -1.0554e-01,  ..., -1.4029e+00,\n",
            "           -7.4936e-01, -5.8222e-01],\n",
            "          [ 2.8568e-01, -4.1245e-01, -9.4976e-01,  ...,  3.6258e-01,\n",
            "            4.5864e-01,  7.6963e-01],\n",
            "          [-1.2279e+00, -1.3601e+00,  2.4572e+00,  ..., -7.0231e-01,\n",
            "            7.1272e-02,  1.3351e+00],\n",
            "          ...,\n",
            "          [ 2.1624e-01, -1.0123e-01, -8.0841e-01,  ..., -1.0200e+00,\n",
            "            5.5087e-01, -7.9707e-01],\n",
            "          [-6.3316e-02,  1.4860e+00, -5.2431e-01,  ..., -3.5512e-01,\n",
            "            1.0977e+00,  2.2157e-01],\n",
            "          [ 1.2969e-01, -4.7098e-01, -7.9566e-01,  ..., -1.8755e+00,\n",
            "            1.9008e+00,  1.4031e+00]]],\n",
            "\n",
            "\n",
            "        [[[-8.4884e-01, -1.5346e-02,  1.1241e+00,  ...,  1.1011e+00,\n",
            "           -1.6985e+00,  6.0384e-01],\n",
            "          [-5.4371e-01, -4.0929e-02, -2.0377e-01,  ..., -2.5448e+00,\n",
            "           -2.1019e-01,  1.6605e+00],\n",
            "          [ 1.3038e+00,  4.9624e-01,  1.7094e+00,  ...,  3.0754e-02,\n",
            "            7.7986e-01,  7.6897e-01],\n",
            "          ...,\n",
            "          [-8.2180e-01, -5.9109e-01, -1.5883e+00,  ..., -6.7730e-01,\n",
            "            3.6584e-01, -1.0953e+00],\n",
            "          [ 2.9876e-01,  1.0641e+00, -6.1519e-02,  ...,  1.2014e+00,\n",
            "            8.2109e-01, -2.9422e-01],\n",
            "          [-1.7897e-01,  1.1095e+00,  8.8821e-02,  ..., -8.8927e-01,\n",
            "            5.2164e-01,  2.2537e-01]],\n",
            "\n",
            "         [[ 2.9256e-01, -9.8821e-01, -1.3045e+00,  ..., -4.4477e-02,\n",
            "            2.6665e-01,  1.1618e+00],\n",
            "          [ 7.9887e-01, -1.8311e+00, -1.4874e+00,  ..., -3.3178e-01,\n",
            "            9.4326e-01, -2.3248e-01],\n",
            "          [ 1.7678e+00, -1.1357e-01, -5.2323e-01,  ...,  1.8179e-01,\n",
            "           -1.2814e+00,  3.7583e-01],\n",
            "          ...,\n",
            "          [ 1.2159e+00, -2.7391e-01,  3.0494e-01,  ..., -1.3568e+00,\n",
            "           -1.4440e-01,  6.7882e-01],\n",
            "          [ 5.0278e-01, -1.6180e+00, -7.0801e-01,  ...,  4.7933e-01,\n",
            "           -5.9648e-01,  2.7354e-01],\n",
            "          [-2.8104e-01, -5.3914e-02,  7.9426e-01,  ..., -1.4071e+00,\n",
            "            1.3511e+00, -1.5265e+00]],\n",
            "\n",
            "         [[ 1.4074e+00, -1.4407e+00,  6.0424e-01,  ...,  9.5298e-01,\n",
            "            3.5558e-01,  6.7959e-01],\n",
            "          [ 2.6268e+00,  1.6391e+00, -1.3065e+00,  ...,  1.0049e+00,\n",
            "            1.4338e-01,  1.2177e+00],\n",
            "          [ 2.4541e-01,  1.7462e+00,  5.0005e-01,  ...,  1.0970e+00,\n",
            "            7.9060e-01, -8.8294e-01],\n",
            "          ...,\n",
            "          [-2.2233e+00,  9.7851e-02, -3.8953e-01,  ..., -1.3112e+00,\n",
            "            2.1979e-01,  1.1362e+00],\n",
            "          [-1.5595e+00,  6.4620e-01, -4.1104e-01,  ..., -3.9440e-01,\n",
            "           -1.1438e+00, -2.3294e+00],\n",
            "          [-1.0899e+00, -1.1083e-01,  4.3353e-01,  ..., -5.2782e-01,\n",
            "            9.9498e-01,  7.2957e-01]],\n",
            "\n",
            "         ...,\n",
            "\n",
            "         [[ 8.0942e-01, -1.0551e-01,  1.1669e+00,  ..., -4.5659e-01,\n",
            "            3.8610e-01,  1.7575e-01],\n",
            "          [-1.1023e+00, -3.5990e-01, -7.5258e-01,  ...,  1.7359e+00,\n",
            "            2.3571e-02,  8.6403e-01],\n",
            "          [ 9.3379e-01, -2.7651e+00,  1.8829e+00,  ..., -6.8832e-01,\n",
            "            7.1162e-01,  1.3892e+00],\n",
            "          ...,\n",
            "          [ 3.0930e-01, -6.3388e-01, -7.8968e-02,  ...,  5.3752e-01,\n",
            "           -1.0324e+00, -8.5394e-01],\n",
            "          [-2.3409e-01,  4.5821e-01, -1.6154e-01,  ...,  2.0033e-01,\n",
            "            1.2383e+00, -1.8598e-01],\n",
            "          [ 2.4863e-02,  4.3293e-01,  5.9056e-01,  ...,  1.3784e+00,\n",
            "           -8.5512e-01, -1.9004e+00]],\n",
            "\n",
            "         [[ 1.4356e+00,  1.1524e+00, -2.9575e-01,  ...,  8.7223e-01,\n",
            "            1.6520e+00,  1.3881e+00],\n",
            "          [ 4.3544e-01, -1.4113e+00, -1.3758e+00,  ..., -5.2354e-01,\n",
            "            9.4045e-01,  1.4292e-01],\n",
            "          [ 9.2980e-01,  4.3482e-01,  1.3248e+00,  ...,  1.9031e+00,\n",
            "           -2.0979e-01, -2.5610e+00],\n",
            "          ...,\n",
            "          [-1.1801e+00, -9.3459e-01,  7.5603e-01,  ...,  2.4157e+00,\n",
            "            8.3034e-01,  1.0699e+00],\n",
            "          [ 6.9042e-01,  1.5189e-01,  1.9217e-01,  ..., -7.0137e-01,\n",
            "           -2.6849e-01,  2.3809e-01],\n",
            "          [ 3.2267e-01, -3.8274e-01, -1.9965e+00,  ...,  1.1040e-01,\n",
            "           -1.1386e+00, -5.7746e-01]],\n",
            "\n",
            "         [[ 3.8610e-01,  7.4418e-01,  1.3901e-01,  ...,  5.4843e-01,\n",
            "            2.3977e+00, -1.4810e-01],\n",
            "          [-9.1687e-01, -7.4067e-01,  8.6741e-01,  ...,  9.5797e-01,\n",
            "           -8.0362e-01, -2.4279e-01],\n",
            "          [ 5.3851e-02,  1.2647e+00, -6.9010e-01,  ..., -4.5921e-01,\n",
            "            1.1582e+00,  6.9631e-01],\n",
            "          ...,\n",
            "          [ 3.1609e-01,  1.1312e-01, -5.8851e-02,  ...,  1.0393e+00,\n",
            "           -6.9046e-02,  6.7272e-01],\n",
            "          [ 1.3524e-01, -2.0448e+00,  1.2750e-01,  ...,  3.7582e-01,\n",
            "            1.4391e+00,  1.4215e+00],\n",
            "          [ 8.5592e-01,  1.5986e-01, -1.4459e+00,  ..., -1.4769e+00,\n",
            "            2.1280e-01,  1.3050e+00]]],\n",
            "\n",
            "\n",
            "        [[[ 1.9500e-01, -4.6392e-01, -1.7623e-01,  ..., -5.8540e-01,\n",
            "            9.9812e-01, -5.9654e-01],\n",
            "          [-5.2853e-01, -7.0266e-01,  1.5547e+00,  ..., -6.2868e-01,\n",
            "            8.8517e-01,  3.7575e-02],\n",
            "          [ 1.1258e+00,  1.4696e-01, -6.3190e-01,  ...,  4.7184e-01,\n",
            "           -1.5375e+00,  6.3564e-02],\n",
            "          ...,\n",
            "          [ 3.1751e-01, -2.5929e+00, -8.5223e-01,  ...,  1.1511e+00,\n",
            "           -1.9094e+00, -9.0426e-02],\n",
            "          [-6.4577e-01,  4.4707e-01,  1.6677e+00,  ...,  1.2602e+00,\n",
            "            4.7470e-01, -2.8118e+00],\n",
            "          [ 4.3774e-01,  9.3901e-01, -7.6144e-02,  ..., -8.8113e-01,\n",
            "           -2.4904e-01, -3.7150e-01]],\n",
            "\n",
            "         [[ 9.6120e-01, -1.7702e+00,  1.5373e+00,  ..., -2.1294e-01,\n",
            "           -1.6755e-02,  8.0006e-01],\n",
            "          [ 6.7388e-01,  2.0960e+00,  6.4778e-02,  ...,  1.3861e-02,\n",
            "           -8.3933e-01,  1.2830e+00],\n",
            "          [ 7.8670e-01,  8.3752e-01,  4.4277e-01,  ..., -1.2476e+00,\n",
            "            8.2459e-01, -1.2715e+00],\n",
            "          ...,\n",
            "          [ 9.5779e-01,  3.3809e-01, -7.5592e-01,  ...,  6.8655e-01,\n",
            "            1.7539e+00, -1.5758e-01],\n",
            "          [ 9.0871e-01,  9.7354e-01, -2.6337e-01,  ..., -1.4816e+00,\n",
            "           -7.7951e-02,  2.5338e-01],\n",
            "          [-5.5936e-01, -5.1987e-01,  4.1440e-01,  ..., -1.5910e-01,\n",
            "            1.0245e+00,  3.5076e-01]],\n",
            "\n",
            "         [[-1.6817e+00,  3.3731e-01,  1.0596e+00,  ..., -1.8237e+00,\n",
            "            6.3974e-01,  1.5869e+00],\n",
            "          [ 2.6023e-01,  8.7770e-01,  1.6799e-01,  ..., -3.1563e-01,\n",
            "           -1.1790e+00,  7.5856e-01],\n",
            "          [-6.4718e-02,  2.3575e+00,  1.5173e+00,  ..., -7.7087e-01,\n",
            "           -1.0803e+00,  4.7769e-01],\n",
            "          ...,\n",
            "          [-8.7673e-02,  1.6833e+00, -6.6620e-01,  ..., -1.8345e+00,\n",
            "            2.5559e-01, -8.5799e-01],\n",
            "          [-8.0181e-01,  2.2527e+00,  1.9482e+00,  ..., -7.2146e-01,\n",
            "            1.3221e+00, -3.0471e-01],\n",
            "          [ 3.0482e-01, -9.4378e-01,  4.5579e-01,  ...,  1.8986e-01,\n",
            "           -7.7455e-01, -1.9916e-02]],\n",
            "\n",
            "         ...,\n",
            "\n",
            "         [[ 1.1912e+00,  1.9351e-01, -1.0627e+00,  ..., -2.3607e-01,\n",
            "            4.8817e-01,  4.4274e-01],\n",
            "          [ 1.6231e+00, -2.5986e-01, -4.3310e-01,  ...,  1.2324e+00,\n",
            "           -1.2610e+00,  1.2956e+00],\n",
            "          [ 7.9859e-01, -1.1105e+00, -8.5800e-01,  ...,  2.5204e-01,\n",
            "            4.5750e-01, -9.4146e-01],\n",
            "          ...,\n",
            "          [-1.1856e+00,  7.0176e-01, -6.9207e-01,  ..., -1.4349e-01,\n",
            "           -4.0159e-01,  1.1576e-01],\n",
            "          [ 1.3125e+00,  4.4480e-01, -6.2023e-01,  ..., -5.5790e-02,\n",
            "           -2.3146e+00,  8.0932e-01],\n",
            "          [-6.2104e-01,  8.2032e-01,  4.6690e-01,  ..., -3.8706e-01,\n",
            "            4.2112e-01,  1.4431e+00]],\n",
            "\n",
            "         [[ 2.3384e+00, -1.7160e+00, -1.5947e+00,  ..., -1.0359e+00,\n",
            "            5.4959e-01,  3.7968e-01],\n",
            "          [ 7.4782e-01, -7.1980e-01, -7.8778e-01,  ..., -7.9962e-01,\n",
            "            9.7338e-01,  2.6389e-01],\n",
            "          [ 2.7379e+00, -1.7336e+00,  9.1101e-01,  ..., -7.8132e-01,\n",
            "           -3.6466e-01,  7.0002e-01],\n",
            "          ...,\n",
            "          [ 5.2414e-01,  7.0389e-01,  2.3276e-01,  ..., -1.5754e+00,\n",
            "            1.0772e-01,  3.8822e-02],\n",
            "          [ 6.7058e-01,  1.0789e+00, -2.9414e-01,  ..., -2.6782e-01,\n",
            "            9.1815e-01,  1.2260e+00],\n",
            "          [ 6.4973e-01, -1.1324e+00, -5.7825e-01,  ...,  9.4308e-01,\n",
            "            3.9389e-01,  6.7555e-01]],\n",
            "\n",
            "         [[ 8.1338e-01,  1.2930e+00,  1.1387e+00,  ..., -1.2786e-01,\n",
            "            9.6100e-01, -1.0004e-01],\n",
            "          [ 5.3479e-01,  4.6060e-01,  1.0324e+00,  ...,  9.3111e-02,\n",
            "           -3.5841e-01,  1.7959e+00],\n",
            "          [ 4.1834e-01, -1.0812e+00, -3.6840e-01,  ..., -2.1271e+00,\n",
            "            2.1095e-01, -7.2928e-01],\n",
            "          ...,\n",
            "          [ 1.0952e+00,  4.5188e-02, -3.7202e-01,  ...,  2.4268e-03,\n",
            "            1.3037e+00,  9.3308e-01],\n",
            "          [ 1.4837e+00, -2.7317e-01, -3.8838e-01,  ..., -9.3601e-01,\n",
            "           -1.4687e+00,  4.7194e-02],\n",
            "          [ 1.1475e+00,  7.4212e-01, -6.0706e-01,  ...,  1.3576e-01,\n",
            "           -3.1607e-01, -1.6733e+00]]],\n",
            "\n",
            "\n",
            "        ...,\n",
            "\n",
            "\n",
            "        [[[-1.6290e+00, -4.7297e-01, -1.8035e+00,  ..., -4.5700e-01,\n",
            "           -7.7961e-01, -7.5131e-01],\n",
            "          [-1.2266e+00,  1.3678e+00,  6.5110e-01,  ..., -6.4767e-01,\n",
            "            7.3417e-01, -2.4852e-03],\n",
            "          [-7.8460e-01,  1.5527e+00, -6.1958e-01,  ..., -5.0588e-01,\n",
            "           -3.2182e-01, -1.2940e+00],\n",
            "          ...,\n",
            "          [ 7.3186e-01,  1.0763e+00, -1.1174e+00,  ..., -5.2785e-01,\n",
            "            5.5004e-01,  9.8116e-01],\n",
            "          [-1.9036e-01,  2.1744e+00,  6.6588e-01,  ..., -8.7437e-01,\n",
            "           -1.8861e+00,  4.9328e-01],\n",
            "          [ 2.3588e-01,  5.1134e-01,  1.0280e+00,  ...,  1.7223e-01,\n",
            "            1.3687e+00, -5.7482e-01]],\n",
            "\n",
            "         [[ 7.4431e-01,  1.7878e+00,  4.9924e-01,  ..., -1.6653e+00,\n",
            "           -5.8088e-01,  1.1806e+00],\n",
            "          [ 4.8533e-01,  8.6485e-01, -2.6056e-01,  ..., -3.7534e-01,\n",
            "           -2.3800e+00, -1.0843e-01],\n",
            "          [-1.4021e+00, -6.8415e-01,  7.4252e-01,  ..., -2.0226e-01,\n",
            "            1.0624e+00, -6.3180e-01],\n",
            "          ...,\n",
            "          [-6.6129e-03, -1.3113e-01, -2.0004e-01,  ..., -1.0911e+00,\n",
            "           -1.3052e+00,  1.3503e+00],\n",
            "          [ 1.9685e-01, -1.3570e+00,  1.0799e+00,  ...,  6.3554e-01,\n",
            "           -7.1611e-01, -9.7527e-01],\n",
            "          [-2.7834e-01, -5.7424e-01, -1.9056e+00,  ...,  1.4386e+00,\n",
            "            3.6517e-01,  1.0501e+00]],\n",
            "\n",
            "         [[-7.9980e-01,  1.7873e+00, -3.0877e-01,  ...,  1.5143e+00,\n",
            "           -7.1341e-02,  1.1899e+00],\n",
            "          [ 9.8976e-01,  2.6330e-01,  5.7618e-01,  ...,  3.8881e-01,\n",
            "           -1.6606e+00, -3.7680e-01],\n",
            "          [ 1.7048e-01,  1.5258e+00,  4.6323e-01,  ...,  6.4061e-01,\n",
            "           -8.8650e-01, -6.8748e-01],\n",
            "          ...,\n",
            "          [ 7.2092e-01,  1.4056e+00, -3.0774e-01,  ..., -2.2386e+00,\n",
            "            1.1692e+00,  1.0731e+00],\n",
            "          [-1.5575e+00, -5.3536e-01,  3.5830e-01,  ..., -1.5460e+00,\n",
            "           -6.1628e-01, -9.3145e-02],\n",
            "          [-2.0891e-01,  5.1373e-01,  3.6251e-01,  ..., -2.0956e-01,\n",
            "           -2.0090e+00,  7.6519e-01]],\n",
            "\n",
            "         ...,\n",
            "\n",
            "         [[-5.5147e-01, -7.9420e-01,  1.0639e+00,  ...,  3.4384e-01,\n",
            "           -1.6217e+00, -6.9769e-01],\n",
            "          [ 1.0947e+00,  2.0031e+00,  1.7081e+00,  ..., -9.9543e-01,\n",
            "           -2.5692e-01,  6.7119e-01],\n",
            "          [ 3.2144e-01, -9.7486e-02, -1.3230e+00,  ...,  1.1129e+00,\n",
            "           -1.1376e+00,  1.9923e+00],\n",
            "          ...,\n",
            "          [-1.2991e+00,  8.0963e-01,  7.1610e-01,  ...,  1.3807e+00,\n",
            "            1.8883e+00,  1.1809e+00],\n",
            "          [ 1.8858e+00,  2.8706e-01, -1.6187e-01,  ...,  2.0479e-01,\n",
            "            6.8280e-01,  1.0390e+00],\n",
            "          [ 3.4809e-01, -1.6578e+00,  3.9763e-01,  ..., -5.7872e-01,\n",
            "           -3.9549e-01,  8.2607e-01]],\n",
            "\n",
            "         [[-7.7523e-01,  8.3154e-03, -1.2727e+00,  ...,  5.0823e-01,\n",
            "            1.7588e+00,  4.3832e-01],\n",
            "          [-1.0003e+00, -2.2472e+00, -1.6812e+00,  ..., -1.4485e+00,\n",
            "           -6.1933e-01, -4.6320e-01],\n",
            "          [-5.0352e-01, -4.6589e-01, -1.5256e+00,  ..., -3.9054e-01,\n",
            "           -1.6486e+00, -1.8334e+00],\n",
            "          ...,\n",
            "          [ 7.1566e-01, -7.3897e-01, -1.5456e-01,  ...,  1.0548e+00,\n",
            "           -1.5325e+00, -6.2336e-01],\n",
            "          [ 7.6955e-01,  7.4320e-01,  7.8553e-01,  ...,  7.2355e-02,\n",
            "            2.0293e+00, -1.0038e+00],\n",
            "          [-6.2135e-01, -1.4271e+00, -1.9785e-01,  ..., -1.5738e+00,\n",
            "            5.6190e-01,  1.8719e+00]],\n",
            "\n",
            "         [[ 2.1663e+00,  4.6403e-01, -1.3197e+00,  ...,  2.4087e+00,\n",
            "            1.1207e-01, -9.4667e-01],\n",
            "          [ 3.3687e-01, -4.9905e-01,  3.8891e-01,  ...,  8.5939e-01,\n",
            "           -7.3842e-01, -1.1775e+00],\n",
            "          [ 1.4130e-01,  1.4012e+00,  4.6428e-01,  ..., -6.4382e-01,\n",
            "           -1.8783e+00,  1.0893e+00],\n",
            "          ...,\n",
            "          [-1.1482e+00, -2.8715e-02, -2.6343e-01,  ...,  1.4830e+00,\n",
            "           -1.4683e+00, -1.9135e+00],\n",
            "          [ 1.3851e+00, -6.8211e-02,  2.6068e-01,  ..., -9.7867e-02,\n",
            "           -2.2573e-01, -5.5585e-01],\n",
            "          [-5.2457e-01, -1.1166e+00, -4.7304e-01,  ..., -4.8539e-01,\n",
            "            4.6554e-01, -9.1561e-02]]],\n",
            "\n",
            "\n",
            "        [[[ 2.6941e-01,  1.1496e+00, -1.9467e-01,  ...,  4.1490e-04,\n",
            "            8.9098e-01, -1.9711e-01],\n",
            "          [ 6.3354e-01,  5.9514e-01, -1.0344e+00,  ...,  6.2259e-01,\n",
            "            1.4297e+00, -2.5980e-01],\n",
            "          [ 7.0918e-01,  3.6553e-01, -6.3622e-01,  ...,  1.3398e+00,\n",
            "            5.4311e-01, -1.2676e+00],\n",
            "          ...,\n",
            "          [-1.8416e+00,  8.6751e-01,  7.1723e-01,  ..., -6.9772e-01,\n",
            "            6.8944e-01, -5.1108e-01],\n",
            "          [-1.5640e+00, -2.3201e+00,  5.9666e-01,  ..., -8.0357e-01,\n",
            "            1.1112e+00, -6.0265e-01],\n",
            "          [-1.1223e-01, -7.1920e-01, -1.8938e-01,  ...,  1.4594e+00,\n",
            "           -8.8604e-01, -4.5852e-01]],\n",
            "\n",
            "         [[ 1.4115e+00,  5.5998e-01,  2.3256e-01,  ...,  7.1392e-02,\n",
            "           -2.5946e-01,  2.8009e-02],\n",
            "          [-9.5820e-01,  1.1155e+00,  7.7272e-02,  ...,  1.2968e+00,\n",
            "           -3.8786e-02, -1.3644e-01],\n",
            "          [-1.8157e+00, -1.6030e+00, -1.3621e+00,  ...,  9.0904e-01,\n",
            "           -1.7038e+00, -8.7974e-01],\n",
            "          ...,\n",
            "          [-1.3549e+00, -1.6199e+00,  2.5391e-01,  ..., -1.7367e+00,\n",
            "           -1.5809e+00, -8.0388e-01],\n",
            "          [ 2.7962e-01, -9.6381e-01, -1.6306e+00,  ...,  1.0866e+00,\n",
            "           -3.9083e-01, -5.0586e-01],\n",
            "          [-4.3095e-01, -5.9114e-01, -1.1852e-01,  ...,  1.1335e-01,\n",
            "            2.1960e-01, -3.6143e-01]],\n",
            "\n",
            "         [[-4.4135e-01,  5.1610e-01,  4.3871e-02,  ..., -1.8154e+00,\n",
            "           -5.0871e-01,  2.2436e-01],\n",
            "          [ 1.1684e+00,  1.3756e-01,  9.7790e-01,  ...,  1.2379e+00,\n",
            "           -4.8346e-01, -7.5778e-01],\n",
            "          [ 7.1044e-01, -4.5240e-01, -3.4277e-01,  ...,  5.4807e-01,\n",
            "           -5.9639e-01,  3.6572e-01],\n",
            "          ...,\n",
            "          [ 5.1401e-01, -6.6424e-01, -3.6671e-01,  ...,  9.6461e-01,\n",
            "            7.0214e-02, -2.8747e-01],\n",
            "          [-1.4964e+00,  4.2418e-01, -1.5430e+00,  ..., -3.8504e-01,\n",
            "            8.9362e-02,  1.7423e+00],\n",
            "          [ 1.3844e+00,  1.3028e+00,  1.1444e+00,  ..., -3.5003e-01,\n",
            "            3.8310e-01,  7.8337e-01]],\n",
            "\n",
            "         ...,\n",
            "\n",
            "         [[ 1.7446e+00,  3.4801e-01,  6.7089e-01,  ...,  4.9901e-01,\n",
            "            3.5462e-01, -1.0331e-01],\n",
            "          [-9.7358e-02, -1.9986e-01,  1.2117e+00,  ...,  1.3918e+00,\n",
            "            1.2457e+00,  2.0394e-01],\n",
            "          [-3.1403e-02, -1.0398e+00,  3.1550e-01,  ..., -8.7351e-01,\n",
            "            5.9009e-01, -3.1878e-01],\n",
            "          ...,\n",
            "          [-1.4885e-01,  1.9231e+00,  2.3719e-01,  ..., -1.3265e+00,\n",
            "            5.8512e-01,  6.7595e-01],\n",
            "          [-3.9025e-01, -1.3334e-01, -1.3839e-01,  ...,  1.4656e-01,\n",
            "            3.8758e-01,  1.4704e+00],\n",
            "          [-6.1696e-01,  6.2108e-01, -6.9696e-01,  ...,  1.3235e+00,\n",
            "            5.0454e-02,  3.0590e-01]],\n",
            "\n",
            "         [[-9.5902e-01, -1.7264e+00,  3.1766e-01,  ..., -4.3449e-01,\n",
            "           -4.1883e-01,  1.2751e+00],\n",
            "          [-8.4792e-01,  5.9819e-01, -6.4710e-01,  ..., -5.8257e-01,\n",
            "           -1.6316e+00, -8.2387e-01],\n",
            "          [ 7.4736e-01, -3.4238e-02, -8.7281e-02,  ..., -5.4810e-01,\n",
            "           -8.5438e-01, -2.7245e-02],\n",
            "          ...,\n",
            "          [ 1.4773e-04,  5.5208e-01, -3.5858e-01,  ...,  2.7602e+00,\n",
            "           -1.8721e+00,  7.5259e-01],\n",
            "          [ 1.4001e-01,  4.1040e-02, -2.1830e+00,  ...,  4.0178e-02,\n",
            "            3.8979e-01,  3.7175e-01],\n",
            "          [-1.4441e+00,  1.5731e+00,  8.3892e-01,  ...,  2.6902e-01,\n",
            "            2.3662e+00, -2.8996e-01]],\n",
            "\n",
            "         [[-1.3860e+00, -1.3609e-01, -2.8619e-01,  ..., -6.5126e-02,\n",
            "           -4.6715e-02, -1.7100e+00],\n",
            "          [ 1.1677e+00,  1.0607e+00, -8.2128e-01,  ..., -6.6033e-01,\n",
            "           -8.6310e-01, -8.3694e-01],\n",
            "          [ 1.0392e+00,  6.2673e-01, -5.2356e-01,  ...,  6.3893e-01,\n",
            "           -8.9369e-01, -2.1461e+00],\n",
            "          ...,\n",
            "          [-4.0229e-01, -1.5578e+00, -1.0612e+00,  ..., -1.0912e+00,\n",
            "            1.9855e+00,  5.8751e-02],\n",
            "          [-1.7420e-01,  1.0089e+00, -2.8465e-01,  ...,  1.7879e-01,\n",
            "           -9.1041e-01,  2.6867e-01],\n",
            "          [ 1.7955e-01,  6.7806e-01, -1.0243e+00,  ...,  6.4762e-01,\n",
            "            1.3108e+00, -7.3114e-01]]],\n",
            "\n",
            "\n",
            "        [[[ 7.2660e-01, -4.1030e-01,  6.8103e-01,  ...,  3.8293e-01,\n",
            "           -2.2360e-01,  6.4922e-01],\n",
            "          [ 2.0101e-01,  1.2192e+00, -6.7439e-01,  ...,  4.0989e-01,\n",
            "            9.0540e-01,  3.0140e-01],\n",
            "          [ 1.5095e+00,  1.4354e+00, -3.5394e-01,  ...,  1.5514e+00,\n",
            "           -1.2993e+00, -9.8463e-01],\n",
            "          ...,\n",
            "          [ 9.0883e-01, -4.2561e-01,  1.4435e-01,  ...,  6.8148e-01,\n",
            "           -2.3892e-01, -1.7795e-01],\n",
            "          [-1.4373e+00, -6.7711e-01, -1.5095e+00,  ..., -9.4852e-01,\n",
            "            5.2545e-01, -1.5530e+00],\n",
            "          [-1.0845e+00, -1.1032e+00,  2.1481e+00,  ..., -6.3776e-02,\n",
            "            7.3898e-02,  1.7052e-01]],\n",
            "\n",
            "         [[ 4.7710e-01,  1.6765e-01, -7.2566e-01,  ..., -1.6285e-01,\n",
            "            3.7843e-01,  3.4688e-02],\n",
            "          [-1.4867e+00,  3.2065e-01,  1.4940e+00,  ...,  7.6150e-01,\n",
            "            4.1055e-01,  1.5156e+00],\n",
            "          [-8.1155e-02,  8.7717e-01,  2.5818e-01,  ..., -2.4402e-01,\n",
            "            5.6405e-01, -1.7761e+00],\n",
            "          ...,\n",
            "          [ 4.2536e-01, -6.8622e-01, -4.8113e-01,  ..., -4.9724e-01,\n",
            "           -1.7211e+00,  7.7687e-02],\n",
            "          [ 8.1583e-01, -1.2569e+00,  1.0853e+00,  ..., -2.8867e-01,\n",
            "           -3.3169e-02,  1.5903e-01],\n",
            "          [ 6.2985e-01, -3.1014e-01,  8.1131e-01,  ...,  9.5402e-01,\n",
            "           -5.5429e-01,  1.4181e+00]],\n",
            "\n",
            "         [[ 9.0216e-02,  2.8707e-01,  1.6959e+00,  ..., -7.0873e-01,\n",
            "            3.1350e-01,  2.6388e-01],\n",
            "          [ 3.2012e-01,  6.2747e-01,  5.4457e-01,  ..., -3.3200e-01,\n",
            "           -6.9337e-01,  7.1369e-01],\n",
            "          [ 1.8145e+00,  3.8815e-01,  4.6111e-02,  ...,  7.9239e-01,\n",
            "           -6.5735e-01,  3.4642e-01],\n",
            "          ...,\n",
            "          [ 1.2710e+00, -5.3813e-01, -6.8738e-01,  ..., -7.6420e-01,\n",
            "            4.2668e-01,  9.1242e-01],\n",
            "          [ 1.1129e+00, -9.3956e-02,  1.0210e+00,  ..., -7.4404e-01,\n",
            "           -3.1369e-01, -5.8884e-02],\n",
            "          [-3.3869e-01, -3.4940e-01, -5.7125e-01,  ..., -4.4164e-01,\n",
            "            1.4989e+00,  1.1917e+00]],\n",
            "\n",
            "         ...,\n",
            "\n",
            "         [[ 5.6429e-01,  1.7515e+00,  5.2229e-01,  ...,  1.3123e+00,\n",
            "            3.7652e-01,  5.7867e-01],\n",
            "          [ 3.0750e-01, -1.2200e+00, -1.0760e+00,  ...,  2.8848e-01,\n",
            "            4.7025e-01,  8.0083e-01],\n",
            "          [ 1.7085e+00, -4.0334e-01,  2.7082e-01,  ...,  1.1847e+00,\n",
            "            5.9082e-01, -1.9551e-01],\n",
            "          ...,\n",
            "          [ 4.6739e-01,  6.2669e-01,  2.1697e-02,  ...,  3.2681e-01,\n",
            "            1.7993e-01, -1.8480e-01],\n",
            "          [-1.2345e+00, -4.2959e-01, -3.5476e-01,  ...,  6.1160e-01,\n",
            "            3.6459e-01,  2.1422e+00],\n",
            "          [ 1.1552e+00, -1.2737e+00,  7.3432e-01,  ...,  2.1851e+00,\n",
            "            2.3262e-01,  8.9172e-01]],\n",
            "\n",
            "         [[-7.6434e-01,  2.2728e+00, -4.5203e-01,  ..., -2.5165e-02,\n",
            "           -2.0654e-01, -1.0128e+00],\n",
            "          [ 1.6589e+00, -1.5395e+00, -1.8715e-01,  ..., -3.0302e-01,\n",
            "           -3.8688e-01,  1.8188e+00],\n",
            "          [ 1.2744e-01, -4.3989e-01, -1.8980e+00,  ..., -7.1082e-03,\n",
            "            4.6435e-01, -9.2074e-01],\n",
            "          ...,\n",
            "          [ 7.4788e-01, -5.5756e-01, -9.9253e-01,  ...,  2.1175e+00,\n",
            "            2.4917e-01,  4.9740e-02],\n",
            "          [ 1.7176e+00,  4.7426e-01, -6.0586e-02,  ...,  6.2126e-01,\n",
            "           -5.5918e-01, -1.2801e+00],\n",
            "          [ 5.6211e-01,  9.2749e-01,  2.8328e+00,  ..., -8.7456e-02,\n",
            "            1.4079e+00,  1.2262e-02]],\n",
            "\n",
            "         [[ 1.8820e+00,  5.5058e-01, -1.9036e-01,  ...,  2.7017e-01,\n",
            "           -7.0644e-01,  8.4685e-01],\n",
            "          [ 1.1279e+00,  4.0022e-01, -1.1607e+00,  ...,  1.1232e-01,\n",
            "           -6.9760e-01,  3.0667e-01],\n",
            "          [-1.4133e+00,  6.5759e-01, -5.5876e-01,  ..., -3.1336e-01,\n",
            "           -9.1501e-01, -1.0449e+00],\n",
            "          ...,\n",
            "          [ 3.9297e-02,  1.1543e+00,  1.4267e+00,  ...,  1.1578e-01,\n",
            "           -1.3875e+00,  8.8769e-01],\n",
            "          [ 9.5684e-01,  4.9893e-01, -1.4555e+00,  ..., -9.1797e-01,\n",
            "           -2.1040e-01,  2.6528e-01],\n",
            "          [-3.4944e-01,  2.3098e+00,  2.5552e-01,  ...,  7.9223e-01,\n",
            "           -5.0587e-01,  8.3792e-01]]]])\n"
          ]
        }
      ]
    },
    {
      "cell_type": "code",
      "metadata": {
        "id": "RLqGbclbp3_N",
        "colab": {
          "base_uri": "https://localhost:8080/"
        },
        "outputId": "60386937-cb17-4b85-ff35-7d1b27644365"
      },
      "source": [
        "output.shape"
      ],
      "execution_count": null,
      "outputs": [
        {
          "output_type": "execute_result",
          "data": {
            "text/plain": [
              "torch.Size([20, 33, 26, 100])"
            ]
          },
          "metadata": {},
          "execution_count": 215
        }
      ]
    },
    {
      "cell_type": "markdown",
      "metadata": {
        "id": "CYeGAJEuneqW"
      },
      "source": [
        "### nn.functional 패키지\n",
        "\n",
        "- 가중치를 직접 선언하여 인자로 넣어줘야함\n",
        "\n",
        "- 예시)\n",
        "  - Convolution functions\n",
        "\n",
        "  - Pooling functions\n",
        "  \n",
        "  - Non-linear activation functions\n",
        "\n",
        "  - Normalization functions\n",
        "\n",
        "  - Linear functions\n",
        "\n",
        "  - Dropout functions\n",
        "  \n",
        "  - Sparse functions\n",
        "  \n",
        "  - Distance functions\n",
        "\n",
        "  - Loss functions\n",
        "  - ..\n",
        "\n",
        "- https://pytorch.org/docs/stable/nn.functional.html"
      ]
    },
    {
      "cell_type": "code",
      "metadata": {
        "id": "NpwbO9Dhpflm"
      },
      "source": [
        "import torch\n",
        "import torch.nn.functional as F "
      ],
      "execution_count": null,
      "outputs": []
    },
    {
      "cell_type": "markdown",
      "metadata": {
        "id": "fUYaJ5aLqKed"
      },
      "source": [
        "- Convolution Layer 예시 (2)"
      ]
    },
    {
      "cell_type": "code",
      "metadata": {
        "id": "GAWLQE2GouHP"
      },
      "source": [
        "fillters = torch.randn(8, 4, 3, 3)"
      ],
      "execution_count": null,
      "outputs": []
    },
    {
      "cell_type": "code",
      "metadata": {
        "id": "lWmSlFBrpms1",
        "colab": {
          "base_uri": "https://localhost:8080/"
        },
        "outputId": "30d435ea-a0ff-4d55-ca54-012aaabfb7e1"
      },
      "source": [
        "inputs = torch.randn(1, 4,5,5)\n",
        "conv = F.conv2d(inputs, fillters, padding=1)\n",
        "conv.shape"
      ],
      "execution_count": null,
      "outputs": [
        {
          "output_type": "execute_result",
          "data": {
            "text/plain": [
              "torch.Size([1, 8, 5, 5])"
            ]
          },
          "metadata": {},
          "execution_count": 218
        }
      ]
    },
    {
      "cell_type": "markdown",
      "metadata": {
        "id": "Wah4RsmgrRDP"
      },
      "source": [
        "## Torchvision\n",
        "\n",
        "- `transforms`: 전처리할 때 사용하는 메소드\n",
        "\n",
        "- `transforms`에서 제공하는 클래스 이외에  \n",
        "  일반적으로 클래스를 따로 만들어 전처리 단계를 진행\n",
        "  \n",
        "  - 아래의 코드에서 다양한 전처리 기술 확인  \n",
        "    https://pytorch.org/docs/stable/torchvision/transforms.html\n"
      ]
    },
    {
      "cell_type": "code",
      "metadata": {
        "id": "akvq4QWmqSil"
      },
      "source": [
        "import torch\n",
        "import torchvision\n",
        "import torchvision.transforms as transforms"
      ],
      "execution_count": null,
      "outputs": []
    },
    {
      "cell_type": "markdown",
      "metadata": {
        "id": "PKu5mzyTs-Qj"
      },
      "source": [
        "- 예시)\n",
        "  - `DataLoader`의 인자로 들어갈 `transform`을 미리 정의할 수 있음\n",
        "\n",
        "  - `Compose`를 통해 리스트 안에 순서대로 전처리 진행\n",
        "\n",
        "  - 대표적인 예로, `ToTensor`()를 하는 이유는  \n",
        "   <u>torchvision이 PIL Image형태로만 입력을 받기 때문에</u> 데이터 처리를 위해서 Tensor형으로 변환해야함"
      ]
    },
    {
      "cell_type": "code",
      "metadata": {
        "id": "y6K7FH-Rs9my"
      },
      "source": [
        "transform = transforms.Compose([transforms.ToTensor(),\n",
        "                                transforms.Normalize(mean=(0.5,),std=(0.5,))])"
      ],
      "execution_count": null,
      "outputs": []
    },
    {
      "cell_type": "markdown",
      "metadata": {
        "id": "I4l1GvIlslKa"
      },
      "source": [
        "## utils.data\n",
        "\n",
        "- `Dataset`에는 다양한 데이터셋이 존재  \n",
        "  - MNIST, CIFAR10, ...\n",
        "\n",
        "- `DataLoader`, `Dataset`을 통해  \n",
        "  `batch_size`, `train`여부, `transform`등을 인자로 넣어 데이터를 어떻게 load할 것인지 정해줄 수 있음"
      ]
    },
    {
      "cell_type": "code",
      "metadata": {
        "id": "1wsZKY7-s2Vv"
      },
      "source": [
        "import torch\n",
        "from torch.utils.data import Dataset, DataLoader\n",
        "\n",
        "import torchvision\n",
        "import torchvision.transforms as transforms"
      ],
      "execution_count": null,
      "outputs": []
    },
    {
      "cell_type": "code",
      "metadata": {
        "id": "lldpI2lquBu3"
      },
      "source": [
        "trainset = torchvision.datasets.MNIST(root='/content',\n",
        "                                      train = True,\n",
        "                                      download = True,\n",
        "                                      transform=transform)\n",
        "\n",
        "testset = torchvision.datasets.MNIST(root='/content',\n",
        "                                      train = False,\n",
        "                                      download = True,\n",
        "                                      transform=transform)"
      ],
      "execution_count": null,
      "outputs": []
    },
    {
      "cell_type": "code",
      "metadata": {
        "id": "fKddZnT1uQmT"
      },
      "source": [
        "train_loader = DataLoader(trainset, batch_size=8, shuffle=True, num_workers=2)\n",
        "test_loader = DataLoader(testset, batch_size=8, shuffle=False, num_workers=2)"
      ],
      "execution_count": null,
      "outputs": []
    },
    {
      "cell_type": "markdown",
      "metadata": {
        "id": "zrxymquLxeo8"
      },
      "source": [
        "- `batch_size`만큼 데이터를 하나씩 가져옴"
      ]
    },
    {
      "cell_type": "code",
      "metadata": {
        "id": "hvgMIyF6uUuU",
        "colab": {
          "base_uri": "https://localhost:8080/"
        },
        "outputId": "b901ed9e-a27d-4dbb-d8a7-9c1c64dca808"
      },
      "source": [
        "dataiter = iter(train_loader)\n",
        "images, labels = dataiter.next()\n",
        "images.shape, labels.shape"
      ],
      "execution_count": null,
      "outputs": [
        {
          "output_type": "execute_result",
          "data": {
            "text/plain": [
              "(torch.Size([8, 1, 28, 28]), torch.Size([8]))"
            ]
          },
          "metadata": {},
          "execution_count": 224
        }
      ]
    },
    {
      "cell_type": "markdown",
      "metadata": {
        "id": "YPUC0a0aw6OM"
      },
      "source": [
        "<u>**(중요) torch에서는 channel(채널)이 앞에 옴**</u>\n",
        "\n",
        "- `channel first`\n",
        "\n",
        "- tensorflow, keras 등에서는 channel이 뒤에 옴(`channel last`)"
      ]
    },
    {
      "cell_type": "markdown",
      "metadata": {
        "id": "wuhylD3iyFYr"
      },
      "source": [
        "### 데이터 확인"
      ]
    },
    {
      "cell_type": "code",
      "metadata": {
        "id": "C9hAQmQlul8P"
      },
      "source": [
        "import matplotlib.pyplot as plt\n",
        "plt.style.use('seaborn-white')"
      ],
      "execution_count": null,
      "outputs": []
    },
    {
      "cell_type": "code",
      "metadata": {
        "id": "zDcUY6o4xUQp",
        "colab": {
          "base_uri": "https://localhost:8080/"
        },
        "outputId": "a1e4f30e-f049-4f99-8ed7-9563f4f5b6dc"
      },
      "source": [
        "torch_image = torch.squeeze(images[0])\n",
        "torch_image.shape"
      ],
      "execution_count": null,
      "outputs": [
        {
          "output_type": "execute_result",
          "data": {
            "text/plain": [
              "torch.Size([28, 28])"
            ]
          },
          "metadata": {},
          "execution_count": 226
        }
      ]
    },
    {
      "cell_type": "code",
      "metadata": {
        "id": "MZmPWiGbxoiW",
        "colab": {
          "base_uri": "https://localhost:8080/"
        },
        "outputId": "e4010164-e3e0-44df-880b-d315a4ffcc76"
      },
      "source": [
        "image = torch_image.numpy()\n",
        "image.shape"
      ],
      "execution_count": null,
      "outputs": [
        {
          "output_type": "execute_result",
          "data": {
            "text/plain": [
              "(28, 28)"
            ]
          },
          "metadata": {},
          "execution_count": 227
        }
      ]
    },
    {
      "cell_type": "code",
      "metadata": {
        "id": "AUOdd4UaxaXO",
        "colab": {
          "base_uri": "https://localhost:8080/"
        },
        "outputId": "226c1b97-d736-4d8d-c13a-f20cad5ba214"
      },
      "source": [
        " label = labels[0].numpy()\n",
        " label.shape"
      ],
      "execution_count": null,
      "outputs": [
        {
          "output_type": "execute_result",
          "data": {
            "text/plain": [
              "()"
            ]
          },
          "metadata": {},
          "execution_count": 228
        }
      ]
    },
    {
      "cell_type": "code",
      "metadata": {
        "id": "PDQfjw4wxr1z",
        "colab": {
          "base_uri": "https://localhost:8080/"
        },
        "outputId": "aa1dbc15-eabe-4fe0-9f7b-a01fc05d4848"
      },
      "source": [
        "label"
      ],
      "execution_count": null,
      "outputs": [
        {
          "output_type": "execute_result",
          "data": {
            "text/plain": [
              "array(8)"
            ]
          },
          "metadata": {},
          "execution_count": 229
        }
      ]
    },
    {
      "cell_type": "code",
      "metadata": {
        "id": "JDCVw59ax3-A",
        "colab": {
          "base_uri": "https://localhost:8080/",
          "height": 277
        },
        "outputId": "6e3447ef-7a7b-48ba-e4f2-8aa1a7dbd8d1"
      },
      "source": [
        "plt.title(label)\n",
        "plt.imshow(image,'gray')\n",
        "plt.show()\n"
      ],
      "execution_count": null,
      "outputs": [
        {
          "output_type": "display_data",
          "data": {
            "image/png": "[encoded data removed]",
            "text/plain": [
              "<Figure size 432x288 with 1 Axes>"
            ]
          },
          "metadata": {}
        }
      ]
    },
    {
      "cell_type": "markdown",
      "metadata": {
        "id": "JVcWQlxzihtS"
      },
      "source": [
        "## 각 Layer 설명"
      ]
    },
    {
      "cell_type": "code",
      "metadata": {
        "id": "IGXn1_weif5H"
      },
      "source": [
        "import torch\n",
        "import torch.nn as nn\n",
        "import torch.nn.functional as F\n",
        "import torch.optim as optim"
      ],
      "execution_count": null,
      "outputs": []
    },
    {
      "cell_type": "markdown",
      "metadata": {
        "id": "73kJ3heBi26y"
      },
      "source": [
        "### nn.Conv2d\n",
        "\n",
        "- `in_channels`: channel의 갯수\n",
        "\n",
        "- `out_channels`: 출력 채널의 갯수\n",
        "\n",
        "- `kernel_size`: 커널(필터) 사이즈\n",
        "\n",
        "- 텐서플로우, 케라스와 다르게 레이어의 `input`인자에도 값을 집어 넣어줘야함"
      ]
    },
    {
      "cell_type": "code",
      "metadata": {
        "id": "RcHJguyFipTl",
        "colab": {
          "base_uri": "https://localhost:8080/"
        },
        "outputId": "cd2be4c4-dc13-4902-c45f-9e5fd9e5d8e0"
      },
      "source": [
        "nn.Conv2d(in_channels=1, out_channels=20, kernel_size=5,stride=1)"
      ],
      "execution_count": null,
      "outputs": [
        {
          "output_type": "execute_result",
          "data": {
            "text/plain": [
              "Conv2d(1, 20, kernel_size=(5, 5), stride=(1, 1))"
            ]
          },
          "metadata": {},
          "execution_count": 232
        }
      ]
    },
    {
      "cell_type": "code",
      "metadata": {
        "id": "iWiJbViHjFG0",
        "colab": {
          "base_uri": "https://localhost:8080/"
        },
        "outputId": "b1b19255-9386-4a7a-de35-b3cfc3aed11e"
      },
      "source": [
        "layer = nn.Conv2d(1,20,5,1).to(torch.device('cpu'))\n",
        "layer"
      ],
      "execution_count": null,
      "outputs": [
        {
          "output_type": "execute_result",
          "data": {
            "text/plain": [
              "Conv2d(1, 20, kernel_size=(5, 5), stride=(1, 1))"
            ]
          },
          "metadata": {},
          "execution_count": 233
        }
      ]
    },
    {
      "cell_type": "markdown",
      "metadata": {
        "id": "GxWYFm2xjUeN"
      },
      "source": [
        "- `weight`확인\n",
        "\n",
        "---\n",
        "\n"
      ]
    },
    {
      "cell_type": "code",
      "metadata": {
        "id": "za0enRbyjPzV",
        "colab": {
          "base_uri": "https://localhost:8080/"
        },
        "outputId": "a4c82c90-da34-4038-845d-9de603707505"
      },
      "source": [
        "weight = layer.weight\n",
        "weight.shape"
      ],
      "execution_count": null,
      "outputs": [
        {
          "output_type": "execute_result",
          "data": {
            "text/plain": [
              "torch.Size([20, 1, 5, 5])"
            ]
          },
          "metadata": {},
          "execution_count": 234
        }
      ]
    },
    {
      "cell_type": "markdown",
      "metadata": {
        "id": "MAZcTU2gjiCX"
      },
      "source": [
        "- `weight`는 `detach()`를 통해 꺼내줘야 `numpy()`변환이 가능"
      ]
    },
    {
      "cell_type": "code",
      "source": [
        "weight = weight.detach()\n",
        "\n",
        "weight = weight.numpy()\n",
        "weight.shape"
      ],
      "metadata": {
        "colab": {
          "base_uri": "https://localhost:8080/"
        },
        "id": "jdZ8oA_uudGy",
        "outputId": "4b7c51f7-eb59-434c-c9d5-2fc8365e29c3"
      },
      "execution_count": null,
      "outputs": [
        {
          "output_type": "execute_result",
          "data": {
            "text/plain": [
              "(20, 1, 5, 5)"
            ]
          },
          "metadata": {},
          "execution_count": 235
        }
      ]
    },
    {
      "cell_type": "code",
      "metadata": {
        "id": "9eN_oUBkjT85",
        "colab": {
          "base_uri": "https://localhost:8080/",
          "height": 262
        },
        "outputId": "65e06a54-dc43-475a-f3fa-0b126986a499"
      },
      "source": [
        "plt.imshow(weight[0,0,:,:,],'jet')\n",
        "plt.colorbar()\n",
        "plt.show()"
      ],
      "execution_count": null,
      "outputs": [
        {
          "output_type": "display_data",
          "data": {
            "image/png": "[encoded data removed]",
            "text/plain": [
              "<Figure size 432x288 with 2 Axes>"
            ]
          },
          "metadata": {}
        }
      ]
    },
    {
      "cell_type": "code",
      "metadata": {
        "id": "kwso9tsijmz8",
        "colab": {
          "base_uri": "https://localhost:8080/"
        },
        "outputId": "26c4aa1d-65f6-4893-9a81-1e3acb0a705c"
      },
      "source": [
        "print(images.shape)"
      ],
      "execution_count": null,
      "outputs": [
        {
          "output_type": "stream",
          "name": "stdout",
          "text": [
            "torch.Size([8, 1, 28, 28])\n"
          ]
        }
      ]
    },
    {
      "cell_type": "code",
      "metadata": {
        "id": "mUegf6HPjdPl"
      },
      "source": [
        "input_image = torch.unsqueeze(images[0], dim=0)"
      ],
      "execution_count": null,
      "outputs": []
    },
    {
      "cell_type": "code",
      "metadata": {
        "id": "DMeTOqVmcdWa"
      },
      "source": [
        "output_data = layer(input_image)"
      ],
      "execution_count": null,
      "outputs": []
    },
    {
      "cell_type": "code",
      "metadata": {
        "id": "cvolnNsscdHs"
      },
      "source": [
        "output = output_data.data"
      ],
      "execution_count": null,
      "outputs": []
    },
    {
      "cell_type": "code",
      "metadata": {
        "id": "NLOAfD5mjup1",
        "colab": {
          "base_uri": "https://localhost:8080/"
        },
        "outputId": "4ac05152-af31-43b0-ff31-261cee7362fe"
      },
      "source": [
        "output_arr = output.numpy()\n",
        "output_arr.shape"
      ],
      "execution_count": null,
      "outputs": [
        {
          "output_type": "execute_result",
          "data": {
            "text/plain": [
              "(1, 20, 24, 24)"
            ]
          },
          "metadata": {},
          "execution_count": 241
        }
      ]
    },
    {
      "cell_type": "code",
      "metadata": {
        "id": "r50wFkl6j1sY",
        "colab": {
          "base_uri": "https://localhost:8080/",
          "height": 257
        },
        "outputId": "304daaae-dd08-4c97-a9ed-8fb3b2aea07a"
      },
      "source": [
        "plt.figure(figsize=(15,30))\n",
        "\n",
        "plt.subplot(131)\n",
        "plt.title(\"Input\")\n",
        "plt.imshow(image, 'gray')\n",
        "plt.subplot(132)\n",
        "plt.title(\"Weight\")\n",
        "plt.imshow(weight[0,0,:,:], 'jet')\n",
        "plt.subplot(133)\n",
        "plt.title(\"Output\")\n",
        "plt.imshow(output_arr[0,0,:,:], 'gray')\n",
        "plt.show()"
      ],
      "execution_count": null,
      "outputs": [
        {
          "output_type": "display_data",
          "data": {
            "image/png": "[encoded data removed]",
            "text/plain": [
              "<Figure size 1080x2160 with 3 Axes>"
            ]
          },
          "metadata": {}
        }
      ]
    },
    {
      "cell_type": "code",
      "metadata": {
        "id": "ZiIp-frJj2Hl"
      },
      "source": [
        ""
      ],
      "execution_count": null,
      "outputs": []
    },
    {
      "cell_type": "code",
      "metadata": {
        "id": "uOHMu-UQkW3a"
      },
      "source": [
        ""
      ],
      "execution_count": null,
      "outputs": []
    },
    {
      "cell_type": "markdown",
      "metadata": {
        "id": "6sCqGmH_kwHm"
      },
      "source": [
        "### Pooling\n",
        "- `F.max_pool2d` \n",
        "  - `stride`\n",
        "\n",
        "  - `kernel_size`\n",
        "\n",
        "- `torch.nn.MaxPool2d` 도 많이 사용"
      ]
    },
    {
      "cell_type": "code",
      "metadata": {
        "id": "AYqPrLH1kxQl",
        "colab": {
          "base_uri": "https://localhost:8080/"
        },
        "outputId": "d0d2f723-41a5-4592-c80c-24cc64ec54b8"
      },
      "source": [
        "image.shape"
      ],
      "execution_count": null,
      "outputs": [
        {
          "output_type": "execute_result",
          "data": {
            "text/plain": [
              "(28, 28)"
            ]
          },
          "metadata": {},
          "execution_count": 243
        }
      ]
    },
    {
      "cell_type": "code",
      "metadata": {
        "id": "tvI8W_8Yk81S",
        "colab": {
          "base_uri": "https://localhost:8080/"
        },
        "outputId": "3976ef2c-33e0-47de-d06a-d2b517a0e8a7"
      },
      "source": [
        "pool = F.max_pool2d(output,2,2)\n",
        "pool.shape"
      ],
      "execution_count": null,
      "outputs": [
        {
          "output_type": "execute_result",
          "data": {
            "text/plain": [
              "torch.Size([1, 20, 12, 12])"
            ]
          },
          "metadata": {},
          "execution_count": 244
        }
      ]
    },
    {
      "cell_type": "markdown",
      "metadata": {
        "id": "aV3HK4FulCaJ"
      },
      "source": [
        "- MaxPool Layer는 weight가 없기 때문에 바로 `numpy()`변환 가능"
      ]
    },
    {
      "cell_type": "code",
      "metadata": {
        "id": "fseB_qlflBta",
        "colab": {
          "base_uri": "https://localhost:8080/"
        },
        "outputId": "0730b536-a82a-45ea-ec15-5dee822198ff"
      },
      "source": [
        "pool_arr = pool.numpy()\n",
        "pool_arr.shape"
      ],
      "execution_count": null,
      "outputs": [
        {
          "output_type": "execute_result",
          "data": {
            "text/plain": [
              "(1, 20, 12, 12)"
            ]
          },
          "metadata": {},
          "execution_count": 245
        }
      ]
    },
    {
      "cell_type": "code",
      "metadata": {
        "id": "6w8DQnNtlNCq",
        "colab": {
          "base_uri": "https://localhost:8080/",
          "height": 313
        },
        "outputId": "2c2330c1-c2b9-4050-d7ce-11a372db4b03"
      },
      "source": [
        "plt.figure(figsize=(10,15))\n",
        "plt.subplot(121)\n",
        "plt.title(\"Input\")\n",
        "plt.imshow(image,'gray')\n",
        "plt.subplot(122)\n",
        "plt.title(\"Output\")\n",
        "plt.imshow(pool_arr[0,0,:,:], 'gray')\n",
        "plt.show()"
      ],
      "execution_count": null,
      "outputs": [
        {
          "output_type": "display_data",
          "data": {
            "image/png": "[encoded data removed]",
            "text/plain": [
              "<Figure size 720x1080 with 2 Axes>"
            ]
          },
          "metadata": {}
        }
      ]
    },
    {
      "cell_type": "markdown",
      "metadata": {
        "id": "q7RVioKwlbH1"
      },
      "source": [
        "### Linear\n",
        "- 1d만 가능 `.view()`를 통해 1D로 펼쳐줘야함"
      ]
    },
    {
      "cell_type": "code",
      "metadata": {
        "id": "Kwcedadrlcbl",
        "colab": {
          "base_uri": "https://localhost:8080/"
        },
        "outputId": "65a0ada0-56be-40d6-f360-ef34b95f1a11"
      },
      "source": [
        "image = torch.from_numpy(image)\n",
        "image.shape"
      ],
      "execution_count": null,
      "outputs": [
        {
          "output_type": "execute_result",
          "data": {
            "text/plain": [
              "torch.Size([28, 28])"
            ]
          },
          "metadata": {},
          "execution_count": 247
        }
      ]
    },
    {
      "cell_type": "code",
      "metadata": {
        "id": "_mYQy4I3lmAm",
        "colab": {
          "base_uri": "https://localhost:8080/"
        },
        "outputId": "c3a836f4-8824-4a6d-dd9b-b6cd289405cc"
      },
      "source": [
        "flatten = image.view(1,28*28)\n",
        "flatten.shape"
      ],
      "execution_count": null,
      "outputs": [
        {
          "output_type": "execute_result",
          "data": {
            "text/plain": [
              "torch.Size([1, 784])"
            ]
          },
          "metadata": {},
          "execution_count": 248
        }
      ]
    },
    {
      "cell_type": "code",
      "metadata": {
        "id": "6wgSmY0Zlofk",
        "colab": {
          "base_uri": "https://localhost:8080/"
        },
        "outputId": "b3bff5da-b281-47ae-8fb0-ea10fe078205"
      },
      "source": [
        "flatten = image.view(1,28*28)\n",
        "flatten.shape"
      ],
      "execution_count": null,
      "outputs": [
        {
          "output_type": "execute_result",
          "data": {
            "text/plain": [
              "torch.Size([1, 784])"
            ]
          },
          "metadata": {},
          "execution_count": 249
        }
      ]
    },
    {
      "cell_type": "code",
      "metadata": {
        "id": "LcJFqf0alsxr",
        "colab": {
          "base_uri": "https://localhost:8080/"
        },
        "outputId": "06e28f1b-38f0-4a87-ccd4-60fc7c61e59d"
      },
      "source": [
        "lin = nn.Linear(784,10)(flatten)\n",
        "lin.shape"
      ],
      "execution_count": null,
      "outputs": [
        {
          "output_type": "execute_result",
          "data": {
            "text/plain": [
              "torch.Size([1, 10])"
            ]
          },
          "metadata": {},
          "execution_count": 250
        }
      ]
    },
    {
      "cell_type": "code",
      "metadata": {
        "id": "ewEpebSVluHz",
        "colab": {
          "base_uri": "https://localhost:8080/"
        },
        "outputId": "8412d3df-ddb5-4543-e81e-4a4236c22d77"
      },
      "source": [
        "lin"
      ],
      "execution_count": null,
      "outputs": [
        {
          "output_type": "execute_result",
          "data": {
            "text/plain": [
              "tensor([[ 0.2569,  0.1290,  0.9792, -0.3691,  0.2521,  0.0932, -0.0195, -0.5394,\n",
              "          0.4988,  0.3446]], grad_fn=<AddmmBackward0>)"
            ]
          },
          "metadata": {},
          "execution_count": 251
        }
      ]
    },
    {
      "cell_type": "code",
      "source": [
        "plt.imshow(lin.detach().numpy(),'jet')\n",
        "plt.colorbar()\n",
        "plt.show()"
      ],
      "metadata": {
        "colab": {
          "base_uri": "https://localhost:8080/",
          "height": 248
        },
        "id": "CyoNn_DQ1Nlt",
        "outputId": "a8094c12-5f6c-4f14-cdfb-c0d8f0b03457"
      },
      "execution_count": null,
      "outputs": [
        {
          "output_type": "display_data",
          "data": {
            "image/png": "[encoded data removed]",
            "text/plain": [
              "<Figure size 432x288 with 2 Axes>"
            ]
          },
          "metadata": {}
        }
      ]
    },
    {
      "cell_type": "markdown",
      "metadata": {
        "id": "0IjPKDKRl3CV"
      },
      "source": [
        "### Softmax"
      ]
    },
    {
      "cell_type": "code",
      "metadata": {
        "id": "obhBb3O-lzbs"
      },
      "source": [
        "with torch.no_grad():\n",
        "  flatten = image.view(1,28*28)\n",
        "  lin = nn.Linear(784, 10)(flatten)\n",
        "  softmax = F.softmax(lin,dim=1)\n"
      ],
      "execution_count": null,
      "outputs": []
    },
    {
      "cell_type": "code",
      "metadata": {
        "id": "ljgOEyNMmBEE",
        "colab": {
          "base_uri": "https://localhost:8080/"
        },
        "outputId": "1872c770-0525-473b-f565-aabec82492ac"
      },
      "source": [
        "softmax"
      ],
      "execution_count": null,
      "outputs": [
        {
          "output_type": "execute_result",
          "data": {
            "text/plain": [
              "tensor([[0.2119, 0.0356, 0.1204, 0.0606, 0.0815, 0.0876, 0.0960, 0.1104, 0.0379,\n",
              "         0.1580]])"
            ]
          },
          "metadata": {},
          "execution_count": 254
        }
      ]
    },
    {
      "cell_type": "code",
      "metadata": {
        "id": "18ymFSRAmBo7",
        "colab": {
          "base_uri": "https://localhost:8080/"
        },
        "outputId": "a666c507-51c9-4585-d313-0105c08589da"
      },
      "source": [
        "np.sum(softmax.numpy())"
      ],
      "execution_count": null,
      "outputs": [
        {
          "output_type": "execute_result",
          "data": {
            "text/plain": [
              "0.9999999"
            ]
          },
          "metadata": {},
          "execution_count": 255
        }
      ]
    },
    {
      "cell_type": "markdown",
      "metadata": {
        "id": "bYh13Bnj5wEN"
      },
      "source": [
        "### F.relu\n",
        "\n",
        "- ReLU 함수를 적용하는 레이어\n",
        "\n",
        "- `nn.ReLU`로도 사용 가능"
      ]
    },
    {
      "cell_type": "code",
      "metadata": {
        "id": "D4VFePpR9_Ak",
        "colab": {
          "base_uri": "https://localhost:8080/"
        },
        "outputId": "b9b92b44-4003-401d-b592-81fc81020d6f"
      },
      "source": [
        "inputs = torch.randn(4,3,28,28).to(device)\n",
        "inputs.shape"
      ],
      "execution_count": null,
      "outputs": [
        {
          "output_type": "execute_result",
          "data": {
            "text/plain": [
              "torch.Size([4, 3, 28, 28])"
            ]
          },
          "metadata": {},
          "execution_count": 257
        }
      ]
    },
    {
      "cell_type": "code",
      "metadata": {
        "id": "1lKlSiaY5wZW",
        "colab": {
          "base_uri": "https://localhost:8080/"
        },
        "outputId": "f0147665-dcdb-442f-a434-fee21f625d97"
      },
      "source": [
        "layer = nn.Conv2d(3,20,5,1).to(device)\n",
        "output = F.relu(layer(inputs))\n",
        "output.shape"
      ],
      "execution_count": null,
      "outputs": [
        {
          "output_type": "execute_result",
          "data": {
            "text/plain": [
              "torch.Size([4, 20, 24, 24])"
            ]
          },
          "metadata": {},
          "execution_count": 259
        }
      ]
    },
    {
      "cell_type": "markdown",
      "metadata": {
        "id": "0yuABl4h-yye"
      },
      "source": [
        "## Optimizer\n",
        "\n",
        "- `import torch.optim as optim`\n",
        "\n",
        "- `model`의 파라미터를 업데이트\n",
        "\n",
        "- 예시)\n",
        "  ```python\n",
        "  optimizer = torch.optim.Adam(model.parameters(), lr=1e-4, weight_decay=1e-5)\n",
        "  optimizer = optim.SGD(model.parameters(), lr=0.001)\n",
        "  ```\n",
        "\n",
        "- `.zero_grad()`로 초기화\n",
        "- `.step()`으로 업데이트\n",
        "\n"
      ]
    },
    {
      "cell_type": "code",
      "source": [
        ""
      ],
      "metadata": {
        "id": "qvkSLh9qCl5S"
      },
      "execution_count": null,
      "outputs": []
    }
  ]
}