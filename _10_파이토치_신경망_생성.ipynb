{
  "nbformat": 4,
  "nbformat_minor": 0,
  "metadata": {
    "colab": {
      "name": "_10 파이토치 신경망 생성.ipynb",
      "provenance": [],
      "collapsed_sections": [],
      "include_colab_link": true
    },
    "kernelspec": {
      "name": "python3",
      "display_name": "Python 3"
    }
  },
  "cells": [
    {
      "cell_type": "markdown",
      "metadata": {
        "id": "view-in-github",
        "colab_type": "text"
      },
      "source": [
        "<a href=\"https://colab.research.google.com/github/sw-woo/aiffel-test/blob/master/_10_%ED%8C%8C%EC%9D%B4%ED%86%A0%EC%B9%98_%EC%8B%A0%EA%B2%BD%EB%A7%9D_%EC%83%9D%EC%84%B1.ipynb\" target=\"_parent\"><img src=\"https://colab.research.google.com/assets/colab-badge.svg\" alt=\"Open In Colab\"/></a>"
      ]
    },
    {
      "cell_type": "markdown",
      "metadata": {
        "id": "cNIhNfg44knT"
      },
      "source": [
        "# 신경망 생성\n",
        "- `torch.nn` 패키지 사용\n",
        "\n",
        "- `nn.Module`을 상속받고, 해당 모듈은 계층과 `output`을 반환하는 `forward`메소드를 포함\n",
        "\n",
        "- 파이토치에서 신경망 생성을 위한 기본 틀\n",
        "\n",
        "      1. class Net(nn.Module):\n",
        "\n",
        "           def __init__(self):\n",
        "               super(Net, self).__init__()\n",
        "\n",
        "      2. class MyModel(nn.Module):\n",
        "\n",
        "            def __init__(self):\n",
        "                super(MyModel, self).__init__()\n",
        "\n",
        "- `conv2d` 레이어를 쌓을 때, 필터의 갯수를 계산하고 `in_channels`에 넣어줘야함\n",
        "\n",
        "        "
      ]
    },
    {
      "cell_type": "markdown",
      "metadata": {
        "id": "vVP0IKPG5XCl"
      },
      "source": [
        "## 신경망 정의"
      ]
    },
    {
      "cell_type": "code",
      "metadata": {
        "id": "EtObfSjK4gzu"
      },
      "source": [
        "import torch\n",
        "import torch.nn as nn\n",
        "import torch.nn.functional as F"
      ],
      "execution_count": 1,
      "outputs": []
    },
    {
      "cell_type": "code",
      "metadata": {
        "id": "TrkSO0qj5aWu",
        "colab": {
          "base_uri": "https://localhost:8080/"
        },
        "outputId": "6a87cfa3-0f20-4c1a-d1bd-1a97d20eda89"
      },
      "source": [
        "class Net(nn.Module):\n",
        "\n",
        "  def __init__(self):\n",
        "    super(Net,self).__init__()\n",
        "\n",
        "    self.conv1 = nn.Conv2d(1,6,3)\n",
        "    self.conv2 = nn.Conv2d(6,16,3)\n",
        "    self.fc1 = nn.Linear(16*6*6,120)\n",
        "    self.fc2 = nn.Linear(120, 84)\n",
        "    self.fc3 = nn.Linear(84,10)\n",
        "\n",
        "  def forward(self,x):\n",
        "    x = F.max_pool2d(F.relu(self.conv1(x)),(2,2))\n",
        "    x = F.max_pool2d(F.relu(self.conv2(x)),2)\n",
        "    x = x.view(-1, self.num_flat_features(x))\n",
        "    x = F.relu(self.fc1(x))\n",
        "    x = F.relu(self.fc2(x))\n",
        "    x = self.fc3(x)\n",
        "    return x\n",
        "  \n",
        "  def num_flat_features(self, x):\n",
        "    size = x.size()[1:]\n",
        "    num_features = 1\n",
        "\n",
        "    for s in size:\n",
        "      num_features *= s\n",
        "\n",
        "    return num_features\n",
        "\n",
        "net =Net()\n",
        "\n",
        "print(net)\n",
        "\n",
        "  \n"
      ],
      "execution_count": 3,
      "outputs": [
        {
          "output_type": "stream",
          "name": "stdout",
          "text": [
            "Net(\n",
            "  (conv1): Conv2d(1, 6, kernel_size=(3, 3), stride=(1, 1))\n",
            "  (conv2): Conv2d(6, 16, kernel_size=(3, 3), stride=(1, 1))\n",
            "  (fc1): Linear(in_features=576, out_features=120, bias=True)\n",
            "  (fc2): Linear(in_features=120, out_features=84, bias=True)\n",
            "  (fc3): Linear(in_features=84, out_features=10, bias=True)\n",
            ")\n"
          ]
        }
      ]
    },
    {
      "cell_type": "markdown",
      "metadata": {
        "id": "D_pSqGTjN4Ey"
      },
      "source": [
        "# 선형회귀(Linear Regression) 모델 생성\n",
        "- 코드 출처 : https://yceffort.kr/2019/02/19/pytorch-02-linear-regression/"
      ]
    },
    {
      "cell_type": "markdown",
      "metadata": {
        "id": "yFV6Qz3wSqOY"
      },
      "source": [
        "## modules import"
      ]
    },
    {
      "cell_type": "code",
      "metadata": {
        "id": "9Pp_ZXMgN48N"
      },
      "source": [
        "import torch\n",
        "import torch.nn as nn\n",
        "import matplotlib.pyplot as plt\n",
        "import numpy as np"
      ],
      "execution_count": 4,
      "outputs": []
    },
    {
      "cell_type": "markdown",
      "metadata": {
        "id": "JApiW41-TQbA"
      },
      "source": [
        "## 데이터 생성 및 회귀식 설정"
      ]
    },
    {
      "cell_type": "code",
      "metadata": {
        "id": "DReJzgyCXGxq",
        "colab": {
          "base_uri": "https://localhost:8080/",
          "height": 296
        },
        "outputId": "e3ab1350-fc73-443e-f971-8592036b0955"
      },
      "source": [
        "X = torch.randn(100, 1)*10\n",
        "y = X + 3*torch.randn(100, 1)\n",
        "plt.plot(X.numpy(), y.numpy(), 'o')\n",
        "plt.ylabel('y')\n",
        "plt.xlabel('x')"
      ],
      "execution_count": 5,
      "outputs": [
        {
          "output_type": "execute_result",
          "data": {
            "text/plain": [
              "Text(0.5, 0, 'x')"
            ]
          },
          "metadata": {},
          "execution_count": 5
        },
        {
          "output_type": "display_data",
          "data": {
            "image/png": "[encoded data removed]",
            "text/plain": [
              "<Figure size 432x288 with 1 Axes>"
            ]
          },
          "metadata": {
            "needs_background": "light"
          }
        }
      ]
    },
    {
      "cell_type": "markdown",
      "metadata": {
        "id": "GaEsvoUHSM9p"
      },
      "source": [
        "## 신경망 구성"
      ]
    },
    {
      "cell_type": "code",
      "metadata": {
        "id": "v8K_nLImN43l"
      },
      "source": [
        "# nn.Module은 사용자 정의 모듈을 생성하는데 있어서 가장 기초가 되는 모듈이다.\n",
        "class LR(nn.Module):\n",
        "\n",
        "  # linear regression의 입력값과 출력값 갯수를 받는다.\n",
        "  def __init__(self, input_size, output_size):\n",
        "    super().__init__()\n",
        "    # nn.Linear를 상속받는다.\n",
        "    self.linear = nn.Linear(input_size, output_size)\n",
        "\n",
        "  # 정방향 호출 함수. 이 함수를 통해서 linear regression을 수행하게 된다.\n",
        "  def forward(self, x):\n",
        "    pred = self.linear(x)\n",
        "    return pred"
      ],
      "execution_count": 6,
      "outputs": []
    },
    {
      "cell_type": "markdown",
      "metadata": {
        "id": "gWHJoDoOSPKD"
      },
      "source": [
        "## 모델 생성 및 파라미터 확인"
      ]
    },
    {
      "cell_type": "code",
      "metadata": {
        "id": "lFWWRmfkN405",
        "colab": {
          "base_uri": "https://localhost:8080/"
        },
        "outputId": "ea01f014-ba4e-4317-d84d-053f78f4b8d6"
      },
      "source": [
        "# random seed\n",
        "torch.manual_seed(1)\n",
        "# 입력값이 한개고, 출력값이 한개\n",
        "model = LR(1, 1)\n",
        "print(model)"
      ],
      "execution_count": 7,
      "outputs": [
        {
          "output_type": "stream",
          "name": "stdout",
          "text": [
            "LR(\n",
            "  (linear): Linear(in_features=1, out_features=1, bias=True)\n",
            ")\n"
          ]
        }
      ]
    },
    {
      "cell_type": "code",
      "metadata": {
        "id": "-7vBaKDhQWGO",
        "colab": {
          "base_uri": "https://localhost:8080/"
        },
        "outputId": "d3dd77e1-1ecb-48ca-b2c5-1c5080bf2877"
      },
      "source": [
        "print(list(model.parameters()))"
      ],
      "execution_count": 8,
      "outputs": [
        {
          "output_type": "stream",
          "name": "stdout",
          "text": [
            "[Parameter containing:\n",
            "tensor([[0.5153]], requires_grad=True), Parameter containing:\n",
            "tensor([-0.4414], requires_grad=True)]\n"
          ]
        }
      ]
    },
    {
      "cell_type": "code",
      "metadata": {
        "id": "wpvOJTwXPaqg",
        "colab": {
          "base_uri": "https://localhost:8080/",
          "height": 265
        },
        "outputId": "8eab8011-81e3-4a50-b99b-866c96837167"
      },
      "source": [
        "w, b = model.parameters()\n",
        "def get_params():\n",
        "  return w[0][0].item(), b[0].item()\n",
        "\n",
        "def plot_fit(title):\n",
        "  plt.title = title\n",
        "  # weight 와 bias\n",
        "  w1, b1 = get_params()\n",
        "  # -30 부터 30까지\n",
        "  x1 = np.array([-30, 30])\n",
        "  # 선형 추정선을 그려본다.\n",
        "  y1 = w1*x1 + b1\n",
        "  plt.plot(x1, y1, 'r')\n",
        "  plt.scatter(X, y)\n",
        "  plt.show()\n",
        "\n",
        "plot_fit('Initial Model')"
      ],
      "execution_count": 9,
      "outputs": [
        {
          "output_type": "display_data",
          "data": {
            "image/png": "[encoded data removed]",
            "text/plain": [
              "<Figure size 432x288 with 1 Axes>"
            ]
          },
          "metadata": {
            "needs_background": "light"
          }
        }
      ]
    },
    {
      "cell_type": "markdown",
      "metadata": {
        "id": "Z9H7zLFWSGhX"
      },
      "source": [
        "## 손실함수와 옵티마이저"
      ]
    },
    {
      "cell_type": "code",
      "metadata": {
        "id": "iW4WHvMOPgtX"
      },
      "source": [
        "criterion = nn.MSELoss()\n",
        "optimizer = torch.optim.SGD(model.parameters(), lr = 0.001)"
      ],
      "execution_count": 10,
      "outputs": []
    },
    {
      "cell_type": "markdown",
      "metadata": {
        "id": "ogojTAwDSRrW"
      },
      "source": [
        "## 모델 학습"
      ]
    },
    {
      "cell_type": "code",
      "metadata": {
        "id": "UkDTmErfQdiU",
        "colab": {
          "base_uri": "https://localhost:8080/"
        },
        "outputId": "597e95b3-d592-46ca-eba4-b5fc9435a341"
      },
      "source": [
        "# 100 회 반복\n",
        "epochs = 100\n",
        "losses = []\n",
        "for i in range(epochs):\n",
        "  # 예측\n",
        "  y_pred = model.forward(X)\n",
        "  # 오차 계산\n",
        "  loss = criterion(y_pred, y)\n",
        "  print(\"epoch:\", i, \"loss:\", loss.item())\n",
        "\n",
        "  # 오차 누적 (계산을 위해서)\n",
        "  losses.append(loss)\n",
        "  # optimzer 초기화\n",
        "  optimizer.zero_grad()\n",
        "  # backward를 수행하여 그래디언트 계산\n",
        "  loss.backward()\n",
        "  # learning rate 만큼 가중치를 주어서 hyper parameter 업데이트\n",
        "  optimizer.step()"
      ],
      "execution_count": 21,
      "outputs": [
        {
          "output_type": "stream",
          "name": "stdout",
          "text": [
            "epoch: 0 loss: 9.612442970275879\n",
            "epoch: 1 loss: 9.612438201904297\n",
            "epoch: 2 loss: 9.612435340881348\n",
            "epoch: 3 loss: 9.612431526184082\n",
            "epoch: 4 loss: 9.612428665161133\n",
            "epoch: 5 loss: 9.61242389678955\n",
            "epoch: 6 loss: 9.612421035766602\n",
            "epoch: 7 loss: 9.612417221069336\n",
            "epoch: 8 loss: 9.612414360046387\n",
            "epoch: 9 loss: 9.612410545349121\n",
            "epoch: 10 loss: 9.612407684326172\n",
            "epoch: 11 loss: 9.612403869628906\n",
            "epoch: 12 loss: 9.612401008605957\n",
            "epoch: 13 loss: 9.612398147583008\n",
            "epoch: 14 loss: 9.612395286560059\n",
            "epoch: 15 loss: 9.61239242553711\n",
            "epoch: 16 loss: 9.612387657165527\n",
            "epoch: 17 loss: 9.612384796142578\n",
            "epoch: 18 loss: 9.612381935119629\n",
            "epoch: 19 loss: 9.612378120422363\n",
            "epoch: 20 loss: 9.612375259399414\n",
            "epoch: 21 loss: 9.612371444702148\n",
            "epoch: 22 loss: 9.6123685836792\n",
            "epoch: 23 loss: 9.612364768981934\n",
            "epoch: 24 loss: 9.612361907958984\n",
            "epoch: 25 loss: 9.612359046936035\n",
            "epoch: 26 loss: 9.612356185913086\n",
            "epoch: 27 loss: 9.612353324890137\n",
            "epoch: 28 loss: 9.612350463867188\n",
            "epoch: 29 loss: 9.612347602844238\n",
            "epoch: 30 loss: 9.612343788146973\n",
            "epoch: 31 loss: 9.612340927124023\n",
            "epoch: 32 loss: 9.61233901977539\n",
            "epoch: 33 loss: 9.612335205078125\n",
            "epoch: 34 loss: 9.61233139038086\n",
            "epoch: 35 loss: 9.61232852935791\n",
            "epoch: 36 loss: 9.612326622009277\n",
            "epoch: 37 loss: 9.612322807312012\n",
            "epoch: 38 loss: 9.612319946289062\n",
            "epoch: 39 loss: 9.612317085266113\n",
            "epoch: 40 loss: 9.612314224243164\n",
            "epoch: 41 loss: 9.612310409545898\n",
            "epoch: 42 loss: 9.612308502197266\n",
            "epoch: 43 loss: 9.612305641174316\n",
            "epoch: 44 loss: 9.61230182647705\n",
            "epoch: 45 loss: 9.612298965454102\n",
            "epoch: 46 loss: 9.612297058105469\n",
            "epoch: 47 loss: 9.612293243408203\n",
            "epoch: 48 loss: 9.612290382385254\n",
            "epoch: 49 loss: 9.612287521362305\n",
            "epoch: 50 loss: 9.612285614013672\n",
            "epoch: 51 loss: 9.612281799316406\n",
            "epoch: 52 loss: 9.612278938293457\n",
            "epoch: 53 loss: 9.612277030944824\n",
            "epoch: 54 loss: 9.612273216247559\n",
            "epoch: 55 loss: 9.61227035522461\n",
            "epoch: 56 loss: 9.612268447875977\n",
            "epoch: 57 loss: 9.612265586853027\n",
            "epoch: 58 loss: 9.612262725830078\n",
            "epoch: 59 loss: 9.612259864807129\n",
            "epoch: 60 loss: 9.612257957458496\n",
            "epoch: 61 loss: 9.612255096435547\n",
            "epoch: 62 loss: 9.612253189086914\n",
            "epoch: 63 loss: 9.612249374389648\n",
            "epoch: 64 loss: 9.6122465133667\n",
            "epoch: 65 loss: 9.61224365234375\n",
            "epoch: 66 loss: 9.612241744995117\n",
            "epoch: 67 loss: 9.612238883972168\n",
            "epoch: 68 loss: 9.612236976623535\n",
            "epoch: 69 loss: 9.612234115600586\n",
            "epoch: 70 loss: 9.612231254577637\n",
            "epoch: 71 loss: 9.612227439880371\n",
            "epoch: 72 loss: 9.612225532531738\n",
            "epoch: 73 loss: 9.612222671508789\n",
            "epoch: 74 loss: 9.612220764160156\n",
            "epoch: 75 loss: 9.61221694946289\n",
            "epoch: 76 loss: 9.612215042114258\n",
            "epoch: 77 loss: 9.612213134765625\n",
            "epoch: 78 loss: 9.612210273742676\n",
            "epoch: 79 loss: 9.612207412719727\n",
            "epoch: 80 loss: 9.612205505371094\n",
            "epoch: 81 loss: 9.612201690673828\n",
            "epoch: 82 loss: 9.612200736999512\n",
            "epoch: 83 loss: 9.612198829650879\n",
            "epoch: 84 loss: 9.612195014953613\n",
            "epoch: 85 loss: 9.61219310760498\n",
            "epoch: 86 loss: 9.612190246582031\n",
            "epoch: 87 loss: 9.612188339233398\n",
            "epoch: 88 loss: 9.612186431884766\n",
            "epoch: 89 loss: 9.612183570861816\n",
            "epoch: 90 loss: 9.61217975616455\n",
            "epoch: 91 loss: 9.612178802490234\n",
            "epoch: 92 loss: 9.612175941467285\n",
            "epoch: 93 loss: 9.612173080444336\n",
            "epoch: 94 loss: 9.612171173095703\n",
            "epoch: 95 loss: 9.61216926574707\n",
            "epoch: 96 loss: 9.612166404724121\n",
            "epoch: 97 loss: 9.612164497375488\n",
            "epoch: 98 loss: 9.612161636352539\n",
            "epoch: 99 loss: 9.612159729003906\n"
          ]
        }
      ]
    },
    {
      "cell_type": "markdown",
      "metadata": {
        "id": "1aYA45MxSeux"
      },
      "source": [
        "## 시각화"
      ]
    },
    {
      "cell_type": "code",
      "metadata": {
        "id": "2tihOUtGQdl0",
        "colab": {
          "base_uri": "https://localhost:8080/",
          "height": 307
        },
        "outputId": "62cba85f-81ae-4f5f-c12c-bcf3b38bce92"
      },
      "source": [
        "plt.plot(range(epochs), losses)\n",
        "plt.ylabel('Loss')\n",
        "plt.xlabel('epoch')"
      ],
      "execution_count": 22,
      "outputs": [
        {
          "output_type": "execute_result",
          "data": {
            "text/plain": [
              "Text(0.5, 0, 'epoch')"
            ]
          },
          "metadata": {},
          "execution_count": 22
        },
        {
          "output_type": "display_data",
          "data": {
            "image/png": "[encoded data removed]",
            "text/plain": [
              "<Figure size 432x288 with 1 Axes>"
            ]
          },
          "metadata": {
            "needs_background": "light"
          }
        }
      ]
    },
    {
      "cell_type": "code",
      "metadata": {
        "id": "8TofKjJDQdx7",
        "colab": {
          "base_uri": "https://localhost:8080/",
          "height": 265
        },
        "outputId": "54558e59-d3dc-4fed-db32-a9cc50de1add"
      },
      "source": [
        "plot_fit(\"Trained Model\")"
      ],
      "execution_count": 23,
      "outputs": [
        {
          "output_type": "display_data",
          "data": {
            "image/png": "[encoded data removed]",
            "text/plain": [
              "<Figure size 432x288 with 1 Axes>"
            ]
          },
          "metadata": {
            "needs_background": "light"
          }
        }
      ]
    },
    {
      "cell_type": "code",
      "source": [
        ""
      ],
      "metadata": {
        "id": "jROq27lyOfDJ"
      },
      "execution_count": null,
      "outputs": []
    }
  ]
}